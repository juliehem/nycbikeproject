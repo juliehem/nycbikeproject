{
 "cells": [
  {
   "cell_type": "code",
   "execution_count": 4,
   "id": "ceb37902",
   "metadata": {},
   "outputs": [],
   "source": [
    "#!/usr/bin/env python3\n",
    "# -*- coding: utf-8 -*-\n",
    "\"\"\"\n",
    "Created on Wed Jul 21 17:13:19 2021\n",
    "\n",
    "@author: julie\n",
    "\"\"\"\n",
    "\n",
    "import numpy as np\n",
    "import pandas as pd\n",
    "import geopandas as gpd\n",
    "import geopy\n",
    "import re\n",
    "import datetime as dt\n",
    "import matplotlib\n",
    "import matplotlib.pyplot as plt\n",
    "plt.style.use('ggplot')\n",
    "import seaborn as sns"
   ]
  },
  {
   "cell_type": "markdown",
   "id": "009d3ed4",
   "metadata": {},
   "source": [
    "## Methods"
   ]
  },
  {
   "cell_type": "markdown",
   "id": "777cf6a7",
   "metadata": {},
   "source": [
    "#### Unused geopy version"
   ]
  },
  {
   "cell_type": "code",
   "execution_count": 5,
   "id": "9e7aea5c",
   "metadata": {},
   "outputs": [],
   "source": [
    "# Not in use - check convert_zips.py\n",
    "\n",
    "def latlong_to_zip(df, geolocator, lat, lon):    #https://gis.stackexchange.com/questions/352961/convert-lat-lon-to-zip-postal-code-using-python\n",
    "    \"\"\"\n",
    "    This takes in latitude and longitude coordinates and outputs city zipcode using geopy\n",
    "    arguments: latitude (float), longitude(float)\n",
    "    returns: Series of location objects (zipcode is a string)\n",
    "    \"\"\"\n",
    "    location = geolocator.reverse((df[lat], df[lon]))\n",
    "    try:\n",
    "        return location.raw['address']['postcode']\n",
    "    except:\n",
    "        # location.raw['postcode'] == ['     ']    # doesn't work\n",
    "        # return location.raw['address']['postcode']\n",
    "        return None\n",
    "    # return location.raw['address']['postcode']"
   ]
  },
  {
   "cell_type": "markdown",
   "id": "c0eb75e7",
   "metadata": {},
   "source": [
    "## Load Crash Data"
   ]
  },
  {
   "cell_type": "code",
   "execution_count": 6,
   "id": "796edb1e",
   "metadata": {},
   "outputs": [
    {
     "name": "stderr",
     "output_type": "stream",
     "text": [
      "/Users/julie/opt/anaconda3/envs/newenv/lib/python3.8/site-packages/IPython/core/interactiveshell.py:3441: DtypeWarning: Columns (3) have mixed types.Specify dtype option on import or set low_memory=False.\n",
      "  exec(code_obj, self.user_global_ns, self.user_ns)\n"
     ]
    }
   ],
   "source": [
    "#%% Read Data\n",
    "\n",
    "## Read Collision crash_data + column names\n",
    "crash_data = pd.read_csv('Motor_Vehicle_Collisions_-_Crashes.csv',\n",
    "                        parse_dates=['CRASH DATE'])\n",
    "\n",
    "## Add Month and Year Columns\n",
    "crash_data.loc[:,'MONTH'] = crash_data.loc[:,'CRASH DATE'].dt.month\n",
    "crash_data.loc[:,'YEAR'] = crash_data.loc[:,'CRASH DATE'].dt.year\n",
    "\n",
    "## Check Column names\n",
    "crash_columns = crash_data.columns\n",
    "\n",
    "## Unused Vehicle data\n",
    "# vehicle_columns = vehicle_data.columns\n",
    "# vehicle_data = pd.read_csv('Motor_Vehicle_Collisions_-_Vehicles.csv')\n",
    "# vehicle_data['CRASH_DATE']    # 09/07/2012 - 07/10/2021\n",
    "# vehicle_data.shape[0]     #3608515"
   ]
  },
  {
   "cell_type": "code",
   "execution_count": 7,
   "id": "cb237e80",
   "metadata": {},
   "outputs": [
    {
     "data": {
      "text/plain": [
       "0         2021-04-14\n",
       "1         2021-04-13\n",
       "2         2021-04-15\n",
       "3         2021-04-13\n",
       "4         2021-04-12\n",
       "             ...    \n",
       "1801412   2012-07-06\n",
       "1801413   2012-07-03\n",
       "1801414   2012-07-01\n",
       "1801415   2012-07-08\n",
       "1801416   2012-07-05\n",
       "Name: CRASH DATE, Length: 1801417, dtype: datetime64[ns]"
      ]
     },
     "execution_count": 7,
     "metadata": {},
     "output_type": "execute_result"
    }
   ],
   "source": [
    "#%% Find date ranges\n",
    "crash_data['CRASH DATE']     # 07/05/2012 - 04/14/2021"
   ]
  },
  {
   "cell_type": "code",
   "execution_count": 8,
   "id": "6ee1d97e",
   "metadata": {},
   "outputs": [],
   "source": [
    "#%% Find number of entries\n",
    "crash_data.shape[0]     #1801417\n",
    "\n",
    "#%% Vehicle types\n",
    "crash_vehicle_types1 = crash_data['VEHICLE TYPE CODE 1'].unique()    #1260 unique types\n",
    "crash_vehicle_types2 = crash_data['VEHICLE TYPE CODE 2'].unique()     #1381 unique types\n",
    "\n",
    "#%% Trim data down to bicycle only\n",
    "crash_bicycle_names = [\n",
    "    'E-Bike', \n",
    "    'Bike', \n",
    "    'Scooter', \n",
    "    'Dirt Bike', \n",
    "    'SCOOTER', \n",
    "    'kick scoot', \n",
    "    'MOTOR SCOO', \n",
    "    'Minibike', \n",
    "    'DIRT BIKE', \n",
    "    'Minibike'\n",
    "    ]"
   ]
  },
  {
   "cell_type": "markdown",
   "id": "cbc02b20",
   "metadata": {},
   "source": [
    "### Different Types of bike data"
   ]
  },
  {
   "cell_type": "code",
   "execution_count": 9,
   "id": "da4e603c",
   "metadata": {},
   "outputs": [],
   "source": [
    "\n",
    "#%% Narrowing data down to bike data\n",
    "\n",
    "# This data is for BIKE + E-BIKE specific rows\n",
    "bike_data = crash_data[((crash_data['VEHICLE TYPE CODE 1'] == 'Bike')\n",
    "                       |\n",
    "                       (crash_data['VEHICLE TYPE CODE 2'] == 'Bike'))] #(31782, 29), bike_data_or\n",
    "\n",
    "\n",
    "##### --------------------------------------------------------------------------\n",
    "##### Selecting for all bike-like vehicles - UNUSED\n",
    "# bike_data_any = crash_data[crash_data['VEHICLE TYPE CODE 1'].isin(crash_bicycle_names)] #(11397, 29)\n",
    "\n",
    "# bike_data_any_or = crash_data[((crash_data['VEHICLE TYPE CODE 1'].isin(crash_bicycle_names))\n",
    "#                        |\n",
    "#                        (crash_data['VEHICLE TYPE CODE 2'].isin(crash_bicycle_names)))] #(34532, 29)\n",
    "# bike_data_any_and = crash_data[((crash_data['VEHICLE TYPE CODE 1'].isin(crash_bicycle_names))\n",
    "#                        &\n",
    "#                        (crash_data['VEHICLE TYPE CODE 2'].isin(crash_bicycle_names)))] #(470, 29) saved as bike_on_bike...\n",
    "\n",
    "##### ---------------------------------------------------------------------------\n",
    "##### Check for duplicates in above:\n",
    "#bike_data_or['COLLISION_ID'].duplicated().sum()     #Is 0\n",
    "\n",
    "# Just 'bike'\n",
    "bike_data_1 = crash_data[crash_data['VEHICLE TYPE CODE 1'] == 'Bike'] #(10382, 29)\n",
    "bike_data_2 = crash_data[crash_data['VEHICLE TYPE CODE 2'] == 'Bike'] #(34532, 29)\n",
    "\n",
    "# Multi-bike accident\n",
    "bike_data_and = crash_data[((crash_data['VEHICLE TYPE CODE 1'] == 'Bike') #418, saved as bike_data_bike_on_bike\n",
    "                       &\n",
    "                       (crash_data['VEHICLE TYPE CODE 2'] == 'Bike'))] \n"
   ]
  },
  {
   "cell_type": "code",
   "execution_count": 10,
   "id": "38f5993b",
   "metadata": {
    "scrolled": true
   },
   "outputs": [
    {
     "name": "stdout",
     "output_type": "stream",
     "text": [
      "(31782, 31)\n"
     ]
    },
    {
     "name": "stderr",
     "output_type": "stream",
     "text": [
      "/Users/julie/opt/anaconda3/envs/newenv/lib/python3.8/site-packages/pandas/core/frame.py:4901: SettingWithCopyWarning: \n",
      "A value is trying to be set on a copy of a slice from a DataFrame\n",
      "\n",
      "See the caveats in the documentation: https://pandas.pydata.org/pandas-docs/stable/user_guide/indexing.html#returning-a-view-versus-a-copy\n",
      "  return super().drop(\n"
     ]
    }
   ],
   "source": [
    "### Just Bike Data:  with E-bikes removed, 31751 (31782 before)\n",
    " \n",
    "bike_data = crash_data[((crash_data['VEHICLE TYPE CODE 1'] == 'Bike')\n",
    "                       |\n",
    "                       (crash_data['VEHICLE TYPE CODE 2'] == 'Bike'))] #(31782, 29/31), bike_data_or\n",
    "print(bike_data.shape)\n",
    "bike_data.reset_index(inplace=True)\n",
    "remove_indexes = bike_data[(bike_data['VEHICLE TYPE CODE 1'] == 'E-Bike') | (bike_data['VEHICLE TYPE CODE 2'] == 'E-Bike')].index\n",
    "bike_data.drop(remove_indexes, inplace=True)"
   ]
  },
  {
   "cell_type": "code",
   "execution_count": 287,
   "id": "1e85680f",
   "metadata": {},
   "outputs": [],
   "source": [
    "# #%%% DONT USE THIS!!! Convert latitude and longitude to zipcode\n",
    "# ## Create geocoder\n",
    "# geolocator = geopy.Nominatim(user_agent = \"bike_accidents\")\n",
    "# clean_bike_data = bike_data_or[['LATITUDE', 'LONGITUDE', 'COLLISION_ID']].dropna()  #29465 without NA, 31782 with\n",
    "\n",
    "# ## retrieve zipcode\n",
    "# addresses = clean_bike_data.apply(latlong_to_zip, axis=1, geolocator=geolocator, lat = 'LATITUDE', lon = 'LONGITUDE')\n"
   ]
  },
  {
   "cell_type": "markdown",
   "id": "6bb6fa27",
   "metadata": {},
   "source": [
    "## Group by month/year and plot Accident Counts\n",
    "\n",
    "\n"
   ]
  },
  {
   "cell_type": "code",
   "execution_count": 11,
   "id": "f3d1d20f",
   "metadata": {},
   "outputs": [
    {
     "data": {
      "text/plain": [
       "Index(['index', 'CRASH DATE', 'CRASH TIME', 'BOROUGH', 'ZIP CODE', 'LATITUDE',\n",
       "       'LONGITUDE', 'LOCATION', 'ON STREET NAME', 'CROSS STREET NAME',\n",
       "       'OFF STREET NAME', 'NUMBER OF PERSONS INJURED',\n",
       "       'NUMBER OF PERSONS KILLED', 'NUMBER OF PEDESTRIANS INJURED',\n",
       "       'NUMBER OF PEDESTRIANS KILLED', 'NUMBER OF CYCLIST INJURED',\n",
       "       'NUMBER OF CYCLIST KILLED', 'NUMBER OF MOTORIST INJURED',\n",
       "       'NUMBER OF MOTORIST KILLED', 'CONTRIBUTING FACTOR VEHICLE 1',\n",
       "       'CONTRIBUTING FACTOR VEHICLE 2', 'CONTRIBUTING FACTOR VEHICLE 3',\n",
       "       'CONTRIBUTING FACTOR VEHICLE 4', 'CONTRIBUTING FACTOR VEHICLE 5',\n",
       "       'COLLISION_ID', 'VEHICLE TYPE CODE 1', 'VEHICLE TYPE CODE 2',\n",
       "       'VEHICLE TYPE CODE 3', 'VEHICLE TYPE CODE 4', 'VEHICLE TYPE CODE 5',\n",
       "       'MONTH', 'YEAR'],\n",
       "      dtype='object')"
      ]
     },
     "execution_count": 11,
     "metadata": {},
     "output_type": "execute_result"
    }
   ],
   "source": [
    "bike_data.columns"
   ]
  },
  {
   "cell_type": "code",
   "execution_count": 315,
   "id": "3c5f8e54",
   "metadata": {
    "scrolled": true
   },
   "outputs": [
    {
     "data": {
      "text/html": [
       "<div>\n",
       "<style scoped>\n",
       "    .dataframe tbody tr th:only-of-type {\n",
       "        vertical-align: middle;\n",
       "    }\n",
       "\n",
       "    .dataframe tbody tr th {\n",
       "        vertical-align: top;\n",
       "    }\n",
       "\n",
       "    .dataframe thead th {\n",
       "        text-align: right;\n",
       "    }\n",
       "</style>\n",
       "<table border=\"1\" class=\"dataframe\">\n",
       "  <thead>\n",
       "    <tr style=\"text-align: right;\">\n",
       "      <th></th>\n",
       "      <th>YEAR</th>\n",
       "      <th>MONTH</th>\n",
       "      <th>Accident Count</th>\n",
       "      <th>Date</th>\n",
       "    </tr>\n",
       "  </thead>\n",
       "  <tbody>\n",
       "    <tr>\n",
       "      <th>0</th>\n",
       "      <td>2012</td>\n",
       "      <td>9</td>\n",
       "      <td>1</td>\n",
       "      <td>2012-09-01</td>\n",
       "    </tr>\n",
       "    <tr>\n",
       "      <th>1</th>\n",
       "      <td>2012</td>\n",
       "      <td>11</td>\n",
       "      <td>1</td>\n",
       "      <td>2012-11-01</td>\n",
       "    </tr>\n",
       "    <tr>\n",
       "      <th>2</th>\n",
       "      <td>2013</td>\n",
       "      <td>3</td>\n",
       "      <td>1</td>\n",
       "      <td>2013-03-01</td>\n",
       "    </tr>\n",
       "    <tr>\n",
       "      <th>3</th>\n",
       "      <td>2013</td>\n",
       "      <td>8</td>\n",
       "      <td>1</td>\n",
       "      <td>2013-08-01</td>\n",
       "    </tr>\n",
       "    <tr>\n",
       "      <th>4</th>\n",
       "      <td>2013</td>\n",
       "      <td>11</td>\n",
       "      <td>1</td>\n",
       "      <td>2013-11-01</td>\n",
       "    </tr>\n",
       "    <tr>\n",
       "      <th>...</th>\n",
       "      <td>...</td>\n",
       "      <td>...</td>\n",
       "      <td>...</td>\n",
       "      <td>...</td>\n",
       "    </tr>\n",
       "    <tr>\n",
       "      <th>73</th>\n",
       "      <td>2021</td>\n",
       "      <td>3</td>\n",
       "      <td>302</td>\n",
       "      <td>2021-03-01</td>\n",
       "    </tr>\n",
       "    <tr>\n",
       "      <th>74</th>\n",
       "      <td>2021</td>\n",
       "      <td>4</td>\n",
       "      <td>368</td>\n",
       "      <td>2021-04-01</td>\n",
       "    </tr>\n",
       "    <tr>\n",
       "      <th>75</th>\n",
       "      <td>2021</td>\n",
       "      <td>5</td>\n",
       "      <td>532</td>\n",
       "      <td>2021-05-01</td>\n",
       "    </tr>\n",
       "    <tr>\n",
       "      <th>76</th>\n",
       "      <td>2021</td>\n",
       "      <td>6</td>\n",
       "      <td>569</td>\n",
       "      <td>2021-06-01</td>\n",
       "    </tr>\n",
       "    <tr>\n",
       "      <th>77</th>\n",
       "      <td>2021</td>\n",
       "      <td>7</td>\n",
       "      <td>207</td>\n",
       "      <td>2021-07-01</td>\n",
       "    </tr>\n",
       "  </tbody>\n",
       "</table>\n",
       "<p>78 rows × 4 columns</p>\n",
       "</div>"
      ],
      "text/plain": [
       "    YEAR  MONTH  Accident Count       Date\n",
       "0   2012      9               1 2012-09-01\n",
       "1   2012     11               1 2012-11-01\n",
       "2   2013      3               1 2013-03-01\n",
       "3   2013      8               1 2013-08-01\n",
       "4   2013     11               1 2013-11-01\n",
       "..   ...    ...             ...        ...\n",
       "73  2021      3             302 2021-03-01\n",
       "74  2021      4             368 2021-04-01\n",
       "75  2021      5             532 2021-05-01\n",
       "76  2021      6             569 2021-06-01\n",
       "77  2021      7             207 2021-07-01\n",
       "\n",
       "[78 rows x 4 columns]"
      ]
     },
     "execution_count": 315,
     "metadata": {},
     "output_type": "execute_result"
    }
   ],
   "source": [
    "df_"
   ]
  },
  {
   "cell_type": "code",
   "execution_count": 318,
   "id": "7bef18aa",
   "metadata": {},
   "outputs": [
    {
     "data": {
      "text/html": [
       "<div>\n",
       "<style scoped>\n",
       "    .dataframe tbody tr th:only-of-type {\n",
       "        vertical-align: middle;\n",
       "    }\n",
       "\n",
       "    .dataframe tbody tr th {\n",
       "        vertical-align: top;\n",
       "    }\n",
       "\n",
       "    .dataframe thead th {\n",
       "        text-align: right;\n",
       "    }\n",
       "</style>\n",
       "<table border=\"1\" class=\"dataframe\">\n",
       "  <thead>\n",
       "    <tr style=\"text-align: right;\">\n",
       "      <th></th>\n",
       "      <th>YEAR</th>\n",
       "      <th>MONTH</th>\n",
       "      <th>Accident Count</th>\n",
       "      <th>Date</th>\n",
       "    </tr>\n",
       "  </thead>\n",
       "  <tbody>\n",
       "    <tr>\n",
       "      <th>13</th>\n",
       "      <td>2016</td>\n",
       "      <td>3</td>\n",
       "      <td>272</td>\n",
       "      <td>2016-03-01</td>\n",
       "    </tr>\n",
       "    <tr>\n",
       "      <th>14</th>\n",
       "      <td>2016</td>\n",
       "      <td>4</td>\n",
       "      <td>483</td>\n",
       "      <td>2016-04-01</td>\n",
       "    </tr>\n",
       "    <tr>\n",
       "      <th>15</th>\n",
       "      <td>2016</td>\n",
       "      <td>5</td>\n",
       "      <td>620</td>\n",
       "      <td>2016-05-01</td>\n",
       "    </tr>\n",
       "    <tr>\n",
       "      <th>16</th>\n",
       "      <td>2016</td>\n",
       "      <td>6</td>\n",
       "      <td>759</td>\n",
       "      <td>2016-06-01</td>\n",
       "    </tr>\n",
       "    <tr>\n",
       "      <th>17</th>\n",
       "      <td>2016</td>\n",
       "      <td>7</td>\n",
       "      <td>726</td>\n",
       "      <td>2016-07-01</td>\n",
       "    </tr>\n",
       "    <tr>\n",
       "      <th>...</th>\n",
       "      <td>...</td>\n",
       "      <td>...</td>\n",
       "      <td>...</td>\n",
       "      <td>...</td>\n",
       "    </tr>\n",
       "    <tr>\n",
       "      <th>73</th>\n",
       "      <td>2021</td>\n",
       "      <td>3</td>\n",
       "      <td>302</td>\n",
       "      <td>2021-03-01</td>\n",
       "    </tr>\n",
       "    <tr>\n",
       "      <th>74</th>\n",
       "      <td>2021</td>\n",
       "      <td>4</td>\n",
       "      <td>368</td>\n",
       "      <td>2021-04-01</td>\n",
       "    </tr>\n",
       "    <tr>\n",
       "      <th>75</th>\n",
       "      <td>2021</td>\n",
       "      <td>5</td>\n",
       "      <td>532</td>\n",
       "      <td>2021-05-01</td>\n",
       "    </tr>\n",
       "    <tr>\n",
       "      <th>76</th>\n",
       "      <td>2021</td>\n",
       "      <td>6</td>\n",
       "      <td>569</td>\n",
       "      <td>2021-06-01</td>\n",
       "    </tr>\n",
       "    <tr>\n",
       "      <th>77</th>\n",
       "      <td>2021</td>\n",
       "      <td>7</td>\n",
       "      <td>207</td>\n",
       "      <td>2021-07-01</td>\n",
       "    </tr>\n",
       "  </tbody>\n",
       "</table>\n",
       "<p>65 rows × 4 columns</p>\n",
       "</div>"
      ],
      "text/plain": [
       "    YEAR  MONTH  Accident Count       Date\n",
       "13  2016      3             272 2016-03-01\n",
       "14  2016      4             483 2016-04-01\n",
       "15  2016      5             620 2016-05-01\n",
       "16  2016      6             759 2016-06-01\n",
       "17  2016      7             726 2016-07-01\n",
       "..   ...    ...             ...        ...\n",
       "73  2021      3             302 2021-03-01\n",
       "74  2021      4             368 2021-04-01\n",
       "75  2021      5             532 2021-05-01\n",
       "76  2021      6             569 2021-06-01\n",
       "77  2021      7             207 2021-07-01\n",
       "\n",
       "[65 rows x 4 columns]"
      ]
     },
     "execution_count": 318,
     "metadata": {},
     "output_type": "execute_result"
    }
   ],
   "source": [
    "df_plot"
   ]
  },
  {
   "cell_type": "code",
   "execution_count": 338,
   "id": "16eff608",
   "metadata": {},
   "outputs": [
    {
     "data": {
      "text/plain": [
       "11   2016-01-01\n",
       "12   2016-02-01\n",
       "13   2016-03-01\n",
       "14   2016-04-01\n",
       "15   2016-05-01\n",
       "        ...    \n",
       "73   2021-03-01\n",
       "74   2021-04-01\n",
       "75   2021-05-01\n",
       "76   2021-06-01\n",
       "77   2021-07-01\n",
       "Name: Date, Length: 67, dtype: datetime64[ns]"
      ]
     },
     "execution_count": 338,
     "metadata": {},
     "output_type": "execute_result"
    }
   ],
   "source": [
    "df_plot['Date']"
   ]
  },
  {
   "cell_type": "code",
   "execution_count": 337,
   "id": "e5cfdc30",
   "metadata": {},
   "outputs": [
    {
     "data": {
      "text/plain": [
       "dtype('<M8[ns]')"
      ]
     },
     "execution_count": 337,
     "metadata": {},
     "output_type": "execute_result"
    }
   ],
   "source": [
    "df_plot['Date'].dtype"
   ]
  },
  {
   "cell_type": "code",
   "execution_count": 13,
   "id": "38c0c466",
   "metadata": {
    "scrolled": false
   },
   "outputs": [
    {
     "ename": "NameError",
     "evalue": "name 'bike_data_or_trimmed' is not defined",
     "output_type": "error",
     "traceback": [
      "\u001b[0;31m---------------------------------------------------------------------------\u001b[0m",
      "\u001b[0;31mNameError\u001b[0m                                 Traceback (most recent call last)",
      "\u001b[0;32m/var/folders/b8/239_pqws18g3pvdbw2lfwk600000gn/T/ipykernel_5580/1935414877.py\u001b[0m in \u001b[0;36m<module>\u001b[0;34m\u001b[0m\n\u001b[1;32m      1\u001b[0m \u001b[0;31m## Create new column called Accident Count and set all values 1\u001b[0m\u001b[0;34m\u001b[0m\u001b[0;34m\u001b[0m\u001b[0;34m\u001b[0m\u001b[0m\n\u001b[0;32m----> 2\u001b[0;31m \u001b[0mbike_data_or_trimmed\u001b[0m\u001b[0;34m.\u001b[0m\u001b[0mcolumns\u001b[0m\u001b[0;34m\u001b[0m\u001b[0;34m\u001b[0m\u001b[0m\n\u001b[0m\u001b[1;32m      3\u001b[0m \u001b[0mbike_data_or_trimmed\u001b[0m\u001b[0;34m[\u001b[0m\u001b[0;34m\"Accident Count\"\u001b[0m\u001b[0;34m]\u001b[0m \u001b[0;34m=\u001b[0m \u001b[0;36m1\u001b[0m\u001b[0;34m\u001b[0m\u001b[0;34m\u001b[0m\u001b[0m\n\u001b[1;32m      4\u001b[0m \u001b[0;31m# Create Date column that combines YEAR and MONTH\u001b[0m\u001b[0;34m\u001b[0m\u001b[0;34m\u001b[0m\u001b[0;34m\u001b[0m\u001b[0m\n\u001b[1;32m      5\u001b[0m \u001b[0mbike_data_or_trimmed\u001b[0m\u001b[0;34m[\u001b[0m\u001b[0;34m'Date'\u001b[0m\u001b[0;34m]\u001b[0m \u001b[0;34m=\u001b[0m \u001b[0mpd\u001b[0m\u001b[0;34m.\u001b[0m\u001b[0mto_datetime\u001b[0m\u001b[0;34m(\u001b[0m\u001b[0mbike_data_or_trimmed\u001b[0m\u001b[0;34m[\u001b[0m\u001b[0;34m[\u001b[0m\u001b[0;34m'YEAR'\u001b[0m\u001b[0;34m,\u001b[0m \u001b[0;34m'MONTH'\u001b[0m\u001b[0;34m]\u001b[0m\u001b[0;34m]\u001b[0m\u001b[0;34m.\u001b[0m\u001b[0massign\u001b[0m\u001b[0;34m(\u001b[0m\u001b[0mDay\u001b[0m\u001b[0;34m=\u001b[0m\u001b[0;36m1\u001b[0m\u001b[0;34m)\u001b[0m\u001b[0;34m)\u001b[0m\u001b[0;34m\u001b[0m\u001b[0;34m\u001b[0m\u001b[0m\n",
      "\u001b[0;31mNameError\u001b[0m: name 'bike_data_or_trimmed' is not defined"
     ]
    }
   ],
   "source": [
    "## Create new column called Accident Count and set all values 1\n",
    "bike_data_or_trimmed.columns\n",
    "bike_data_or_trimmed[\"Accident Count\"] = 1\n",
    "# Create Date column that combines YEAR and MONTH\n",
    "bike_data_or_trimmed['Date'] = pd.to_datetime(bike_data_or_trimmed[['YEAR', 'MONTH']].assign(Day=1))\n",
    "\n",
    "## Aggregate by month and year and count accidents\n",
    "df_  = bike_data_or_trimmed.groupby(['YEAR','MONTH']).agg({\"Accident Count\":\"sum\"}).reset_index()\n",
    "df_['Date'] = pd.to_datetime(df_[['YEAR', 'MONTH']].assign(Day=1))\n",
    "df_plot = df_[(df_['Date'] > '2016-03-01') & (df_['Date'] < '2021-01-01')]\n",
    "# Create lineplot\n",
    "# fig,axs = plt.subplot(figsize=(45,30))\n",
    "# fig, ax = plt.plot(figsize=(45,30))\n",
    "fig, ax = plt.subplots(figsize=(8,8))\n",
    "sns.lineplot(data=df_plot, ax=ax, x=\"Date\", y=\"Accident Count\", color='blue')"
   ]
  },
  {
   "cell_type": "markdown",
   "id": "a8fb8a2a",
   "metadata": {},
   "source": [
    "### Average over time by Borough"
   ]
  },
  {
   "cell_type": "code",
   "execution_count": 12,
   "id": "e3efbaef",
   "metadata": {},
   "outputs": [
    {
     "ename": "KeyError",
     "evalue": "\"['Accident Count', 'Date'] not in index\"",
     "output_type": "error",
     "traceback": [
      "\u001b[0;31m---------------------------------------------------------------------------\u001b[0m",
      "\u001b[0;31mKeyError\u001b[0m                                  Traceback (most recent call last)",
      "\u001b[0;32m/var/folders/b8/239_pqws18g3pvdbw2lfwk600000gn/T/ipykernel_5580/2174098304.py\u001b[0m in \u001b[0;36m<module>\u001b[0;34m\u001b[0m\n\u001b[0;32m----> 1\u001b[0;31m bike_data_borough = bike_data[['CRASH DATE', 'CRASH TIME', 'BOROUGH', 'ZIP CODE', 'LATITUDE',\n\u001b[0m\u001b[1;32m      2\u001b[0m        \u001b[0;34m'LONGITUDE'\u001b[0m\u001b[0;34m,\u001b[0m \u001b[0;34m'NUMBER OF CYCLIST INJURED'\u001b[0m\u001b[0;34m,\u001b[0m\u001b[0;34m\u001b[0m\u001b[0;34m\u001b[0m\u001b[0m\n\u001b[1;32m      3\u001b[0m        'NUMBER OF CYCLIST KILLED','MONTH', 'YEAR', 'Accident Count', 'Date']]\n",
      "\u001b[0;32m~/opt/anaconda3/envs/newenv/lib/python3.8/site-packages/pandas/core/frame.py\u001b[0m in \u001b[0;36m__getitem__\u001b[0;34m(self, key)\u001b[0m\n\u001b[1;32m   3459\u001b[0m             \u001b[0;32mif\u001b[0m \u001b[0mis_iterator\u001b[0m\u001b[0;34m(\u001b[0m\u001b[0mkey\u001b[0m\u001b[0;34m)\u001b[0m\u001b[0;34m:\u001b[0m\u001b[0;34m\u001b[0m\u001b[0;34m\u001b[0m\u001b[0m\n\u001b[1;32m   3460\u001b[0m                 \u001b[0mkey\u001b[0m \u001b[0;34m=\u001b[0m \u001b[0mlist\u001b[0m\u001b[0;34m(\u001b[0m\u001b[0mkey\u001b[0m\u001b[0;34m)\u001b[0m\u001b[0;34m\u001b[0m\u001b[0;34m\u001b[0m\u001b[0m\n\u001b[0;32m-> 3461\u001b[0;31m             \u001b[0mindexer\u001b[0m \u001b[0;34m=\u001b[0m \u001b[0mself\u001b[0m\u001b[0;34m.\u001b[0m\u001b[0mloc\u001b[0m\u001b[0;34m.\u001b[0m\u001b[0m_get_listlike_indexer\u001b[0m\u001b[0;34m(\u001b[0m\u001b[0mkey\u001b[0m\u001b[0;34m,\u001b[0m \u001b[0maxis\u001b[0m\u001b[0;34m=\u001b[0m\u001b[0;36m1\u001b[0m\u001b[0;34m)\u001b[0m\u001b[0;34m[\u001b[0m\u001b[0;36m1\u001b[0m\u001b[0;34m]\u001b[0m\u001b[0;34m\u001b[0m\u001b[0;34m\u001b[0m\u001b[0m\n\u001b[0m\u001b[1;32m   3462\u001b[0m \u001b[0;34m\u001b[0m\u001b[0m\n\u001b[1;32m   3463\u001b[0m         \u001b[0;31m# take() does not accept boolean indexers\u001b[0m\u001b[0;34m\u001b[0m\u001b[0;34m\u001b[0m\u001b[0;34m\u001b[0m\u001b[0m\n",
      "\u001b[0;32m~/opt/anaconda3/envs/newenv/lib/python3.8/site-packages/pandas/core/indexing.py\u001b[0m in \u001b[0;36m_get_listlike_indexer\u001b[0;34m(self, key, axis)\u001b[0m\n\u001b[1;32m   1312\u001b[0m             \u001b[0mkeyarr\u001b[0m\u001b[0;34m,\u001b[0m \u001b[0mindexer\u001b[0m\u001b[0;34m,\u001b[0m \u001b[0mnew_indexer\u001b[0m \u001b[0;34m=\u001b[0m \u001b[0max\u001b[0m\u001b[0;34m.\u001b[0m\u001b[0m_reindex_non_unique\u001b[0m\u001b[0;34m(\u001b[0m\u001b[0mkeyarr\u001b[0m\u001b[0;34m)\u001b[0m\u001b[0;34m\u001b[0m\u001b[0;34m\u001b[0m\u001b[0m\n\u001b[1;32m   1313\u001b[0m \u001b[0;34m\u001b[0m\u001b[0m\n\u001b[0;32m-> 1314\u001b[0;31m         \u001b[0mself\u001b[0m\u001b[0;34m.\u001b[0m\u001b[0m_validate_read_indexer\u001b[0m\u001b[0;34m(\u001b[0m\u001b[0mkeyarr\u001b[0m\u001b[0;34m,\u001b[0m \u001b[0mindexer\u001b[0m\u001b[0;34m,\u001b[0m \u001b[0maxis\u001b[0m\u001b[0;34m)\u001b[0m\u001b[0;34m\u001b[0m\u001b[0;34m\u001b[0m\u001b[0m\n\u001b[0m\u001b[1;32m   1315\u001b[0m \u001b[0;34m\u001b[0m\u001b[0m\n\u001b[1;32m   1316\u001b[0m         if needs_i8_conversion(ax.dtype) or isinstance(\n",
      "\u001b[0;32m~/opt/anaconda3/envs/newenv/lib/python3.8/site-packages/pandas/core/indexing.py\u001b[0m in \u001b[0;36m_validate_read_indexer\u001b[0;34m(self, key, indexer, axis)\u001b[0m\n\u001b[1;32m   1375\u001b[0m \u001b[0;34m\u001b[0m\u001b[0m\n\u001b[1;32m   1376\u001b[0m             \u001b[0mnot_found\u001b[0m \u001b[0;34m=\u001b[0m \u001b[0mlist\u001b[0m\u001b[0;34m(\u001b[0m\u001b[0mensure_index\u001b[0m\u001b[0;34m(\u001b[0m\u001b[0mkey\u001b[0m\u001b[0;34m)\u001b[0m\u001b[0;34m[\u001b[0m\u001b[0mmissing_mask\u001b[0m\u001b[0;34m.\u001b[0m\u001b[0mnonzero\u001b[0m\u001b[0;34m(\u001b[0m\u001b[0;34m)\u001b[0m\u001b[0;34m[\u001b[0m\u001b[0;36m0\u001b[0m\u001b[0;34m]\u001b[0m\u001b[0;34m]\u001b[0m\u001b[0;34m.\u001b[0m\u001b[0munique\u001b[0m\u001b[0;34m(\u001b[0m\u001b[0;34m)\u001b[0m\u001b[0;34m)\u001b[0m\u001b[0;34m\u001b[0m\u001b[0;34m\u001b[0m\u001b[0m\n\u001b[0;32m-> 1377\u001b[0;31m             \u001b[0;32mraise\u001b[0m \u001b[0mKeyError\u001b[0m\u001b[0;34m(\u001b[0m\u001b[0;34mf\"{not_found} not in index\"\u001b[0m\u001b[0;34m)\u001b[0m\u001b[0;34m\u001b[0m\u001b[0;34m\u001b[0m\u001b[0m\n\u001b[0m\u001b[1;32m   1378\u001b[0m \u001b[0;34m\u001b[0m\u001b[0m\n\u001b[1;32m   1379\u001b[0m \u001b[0;34m\u001b[0m\u001b[0m\n",
      "\u001b[0;31mKeyError\u001b[0m: \"['Accident Count', 'Date'] not in index\""
     ]
    }
   ],
   "source": [
    "bike_data_borough = bike_data[['CRASH DATE', 'CRASH TIME', 'BOROUGH', 'ZIP CODE', 'LATITUDE',\n",
    "       'LONGITUDE', 'NUMBER OF CYCLIST INJURED',\n",
    "       'NUMBER OF CYCLIST KILLED','MONTH', 'YEAR', 'Accident Count', 'Date']]"
   ]
  },
  {
   "cell_type": "code",
   "execution_count": 417,
   "id": "8ca0f370",
   "metadata": {
    "scrolled": false
   },
   "outputs": [
    {
     "data": {
      "text/html": [
       "<div>\n",
       "<style scoped>\n",
       "    .dataframe tbody tr th:only-of-type {\n",
       "        vertical-align: middle;\n",
       "    }\n",
       "\n",
       "    .dataframe tbody tr th {\n",
       "        vertical-align: top;\n",
       "    }\n",
       "\n",
       "    .dataframe thead th {\n",
       "        text-align: right;\n",
       "    }\n",
       "</style>\n",
       "<table border=\"1\" class=\"dataframe\">\n",
       "  <thead>\n",
       "    <tr style=\"text-align: right;\">\n",
       "      <th></th>\n",
       "      <th>CRASH DATE</th>\n",
       "      <th>CRASH TIME</th>\n",
       "      <th>BOROUGH</th>\n",
       "      <th>ZIP CODE</th>\n",
       "      <th>LATITUDE</th>\n",
       "      <th>LONGITUDE</th>\n",
       "      <th>NUMBER OF CYCLIST INJURED</th>\n",
       "      <th>NUMBER OF CYCLIST KILLED</th>\n",
       "      <th>MONTH</th>\n",
       "      <th>YEAR</th>\n",
       "      <th>Accident Count</th>\n",
       "      <th>Date</th>\n",
       "    </tr>\n",
       "  </thead>\n",
       "  <tbody>\n",
       "    <tr>\n",
       "      <th>0</th>\n",
       "      <td>2021-04-16</td>\n",
       "      <td>11:00</td>\n",
       "      <td>QUEENS</td>\n",
       "      <td>11368.0</td>\n",
       "      <td>40.749580</td>\n",
       "      <td>-73.865410</td>\n",
       "      <td>1</td>\n",
       "      <td>0</td>\n",
       "      <td>4</td>\n",
       "      <td>2021</td>\n",
       "      <td>1</td>\n",
       "      <td>2021-04-01</td>\n",
       "    </tr>\n",
       "    <tr>\n",
       "      <th>1</th>\n",
       "      <td>2021-04-14</td>\n",
       "      <td>0:00</td>\n",
       "      <td>NaN</td>\n",
       "      <td>NaN</td>\n",
       "      <td>40.601864</td>\n",
       "      <td>-74.002320</td>\n",
       "      <td>1</td>\n",
       "      <td>0</td>\n",
       "      <td>4</td>\n",
       "      <td>2021</td>\n",
       "      <td>1</td>\n",
       "      <td>2021-04-01</td>\n",
       "    </tr>\n",
       "    <tr>\n",
       "      <th>2</th>\n",
       "      <td>2021-04-14</td>\n",
       "      <td>20:10</td>\n",
       "      <td>BROOKLYN</td>\n",
       "      <td>11238.0</td>\n",
       "      <td>40.688210</td>\n",
       "      <td>-73.965830</td>\n",
       "      <td>0</td>\n",
       "      <td>0</td>\n",
       "      <td>4</td>\n",
       "      <td>2021</td>\n",
       "      <td>1</td>\n",
       "      <td>2021-04-01</td>\n",
       "    </tr>\n",
       "    <tr>\n",
       "      <th>3</th>\n",
       "      <td>2021-04-13</td>\n",
       "      <td>17:55</td>\n",
       "      <td>BRONX</td>\n",
       "      <td>10452.0</td>\n",
       "      <td>40.844105</td>\n",
       "      <td>-73.923065</td>\n",
       "      <td>1</td>\n",
       "      <td>0</td>\n",
       "      <td>4</td>\n",
       "      <td>2021</td>\n",
       "      <td>1</td>\n",
       "      <td>2021-04-01</td>\n",
       "    </tr>\n",
       "    <tr>\n",
       "      <th>4</th>\n",
       "      <td>2021-04-14</td>\n",
       "      <td>19:45</td>\n",
       "      <td>BROOKLYN</td>\n",
       "      <td>11201.0</td>\n",
       "      <td>40.694840</td>\n",
       "      <td>-73.983910</td>\n",
       "      <td>1</td>\n",
       "      <td>0</td>\n",
       "      <td>4</td>\n",
       "      <td>2021</td>\n",
       "      <td>1</td>\n",
       "      <td>2021-04-01</td>\n",
       "    </tr>\n",
       "  </tbody>\n",
       "</table>\n",
       "</div>"
      ],
      "text/plain": [
       "  CRASH DATE CRASH TIME   BOROUGH ZIP CODE   LATITUDE  LONGITUDE  \\\n",
       "0 2021-04-16      11:00    QUEENS  11368.0  40.749580 -73.865410   \n",
       "1 2021-04-14       0:00       NaN      NaN  40.601864 -74.002320   \n",
       "2 2021-04-14      20:10  BROOKLYN  11238.0  40.688210 -73.965830   \n",
       "3 2021-04-13      17:55     BRONX  10452.0  40.844105 -73.923065   \n",
       "4 2021-04-14      19:45  BROOKLYN  11201.0  40.694840 -73.983910   \n",
       "\n",
       "   NUMBER OF CYCLIST INJURED  NUMBER OF CYCLIST KILLED  MONTH  YEAR  \\\n",
       "0                          1                         0      4  2021   \n",
       "1                          1                         0      4  2021   \n",
       "2                          0                         0      4  2021   \n",
       "3                          1                         0      4  2021   \n",
       "4                          1                         0      4  2021   \n",
       "\n",
       "   Accident Count       Date  \n",
       "0               1 2021-04-01  \n",
       "1               1 2021-04-01  \n",
       "2               1 2021-04-01  \n",
       "3               1 2021-04-01  \n",
       "4               1 2021-04-01  "
      ]
     },
     "execution_count": 417,
     "metadata": {},
     "output_type": "execute_result"
    }
   ],
   "source": [
    "bike_data_borough['LONGITUDE'].dropna\n",
    "bike_data_borough.head()"
   ]
  },
  {
   "cell_type": "code",
   "execution_count": 1,
   "id": "95ed45d6",
   "metadata": {},
   "outputs": [
    {
     "ename": "NameError",
     "evalue": "name 'bike_data_borough' is not defined",
     "output_type": "error",
     "traceback": [
      "\u001b[0;31m---------------------------------------------------------------------------\u001b[0m",
      "\u001b[0;31mNameError\u001b[0m                                 Traceback (most recent call last)",
      "\u001b[0;32m/var/folders/b8/239_pqws18g3pvdbw2lfwk600000gn/T/ipykernel_5580/2081857407.py\u001b[0m in \u001b[0;36m<module>\u001b[0;34m\u001b[0m\n\u001b[0;32m----> 1\u001b[0;31m \u001b[0mbike_data_borough\u001b[0m\u001b[0;34m.\u001b[0m\u001b[0mcolumns\u001b[0m\u001b[0;34m\u001b[0m\u001b[0;34m\u001b[0m\u001b[0m\n\u001b[0m",
      "\u001b[0;31mNameError\u001b[0m: name 'bike_data_borough' is not defined"
     ]
    }
   ],
   "source": [
    "bike_data_borough.columns"
   ]
  },
  {
   "cell_type": "code",
   "execution_count": null,
   "id": "90fb77d1",
   "metadata": {},
   "outputs": [],
   "source": [
    "bike_data_2020 = bike_data_borough[[]]"
   ]
  },
  {
   "cell_type": "code",
   "execution_count": 421,
   "id": "a383362a",
   "metadata": {
    "scrolled": true
   },
   "outputs": [
    {
     "name": "stderr",
     "output_type": "stream",
     "text": [
      "/Users/julie/opt/anaconda3/envs/newenv/lib/python3.8/site-packages/pandas/core/frame.py:3607: SettingWithCopyWarning: \n",
      "A value is trying to be set on a copy of a slice from a DataFrame.\n",
      "Try using .loc[row_indexer,col_indexer] = value instead\n",
      "\n",
      "See the caveats in the documentation: https://pandas.pydata.org/pandas-docs/stable/user_guide/indexing.html#returning-a-view-versus-a-copy\n",
      "  self._set_item(key, value)\n"
     ]
    }
   ],
   "source": [
    "## Create new column called Accident Count and set all values 1\n",
    "bike_data_borough[\"Accident Count\"] = 1\n",
    "bike_data_borough[\"Fatality Count\"] = 1\n",
    "\n",
    "# import zipcode shapes\n",
    "zip_codes = gpd.read_file('ZIP_CODE')"
   ]
  },
  {
   "cell_type": "code",
   "execution_count": 424,
   "id": "84a9d023",
   "metadata": {},
   "outputs": [],
   "source": [
    "zip_codes['density'] = zip_codes['POPULATION']/zip_codes['AREA']"
   ]
  },
  {
   "cell_type": "code",
   "execution_count": 427,
   "id": "42508e89",
   "metadata": {
    "scrolled": true
   },
   "outputs": [],
   "source": [
    "zip_codes.to_crs(\"EPSG:4326\",inplace=True)"
   ]
  },
  {
   "cell_type": "code",
   "execution_count": 428,
   "id": "7e7fedf5",
   "metadata": {},
   "outputs": [
    {
     "data": {
      "text/html": [
       "<div>\n",
       "<style scoped>\n",
       "    .dataframe tbody tr th:only-of-type {\n",
       "        vertical-align: middle;\n",
       "    }\n",
       "\n",
       "    .dataframe tbody tr th {\n",
       "        vertical-align: top;\n",
       "    }\n",
       "\n",
       "    .dataframe thead th {\n",
       "        text-align: right;\n",
       "    }\n",
       "</style>\n",
       "<table border=\"1\" class=\"dataframe\">\n",
       "  <thead>\n",
       "    <tr style=\"text-align: right;\">\n",
       "      <th></th>\n",
       "      <th>ZIPCODE</th>\n",
       "      <th>BLDGZIP</th>\n",
       "      <th>PO_NAME</th>\n",
       "      <th>POPULATION</th>\n",
       "      <th>AREA</th>\n",
       "      <th>STATE</th>\n",
       "      <th>COUNTY</th>\n",
       "      <th>ST_FIPS</th>\n",
       "      <th>CTY_FIPS</th>\n",
       "      <th>URL</th>\n",
       "      <th>SHAPE_AREA</th>\n",
       "      <th>SHAPE_LEN</th>\n",
       "      <th>geometry</th>\n",
       "      <th>density</th>\n",
       "    </tr>\n",
       "  </thead>\n",
       "  <tbody>\n",
       "    <tr>\n",
       "      <th>0</th>\n",
       "      <td>11436</td>\n",
       "      <td>0</td>\n",
       "      <td>Jamaica</td>\n",
       "      <td>18681.0</td>\n",
       "      <td>2.269930e+07</td>\n",
       "      <td>NY</td>\n",
       "      <td>Queens</td>\n",
       "      <td>36</td>\n",
       "      <td>081</td>\n",
       "      <td>http://www.usps.com/</td>\n",
       "      <td>0.0</td>\n",
       "      <td>0.0</td>\n",
       "      <td>POLYGON ((-73.80585 40.68291, -73.80569 40.682...</td>\n",
       "      <td>0.000823</td>\n",
       "    </tr>\n",
       "    <tr>\n",
       "      <th>1</th>\n",
       "      <td>11213</td>\n",
       "      <td>0</td>\n",
       "      <td>Brooklyn</td>\n",
       "      <td>62426.0</td>\n",
       "      <td>2.963100e+07</td>\n",
       "      <td>NY</td>\n",
       "      <td>Kings</td>\n",
       "      <td>36</td>\n",
       "      <td>047</td>\n",
       "      <td>http://www.usps.com/</td>\n",
       "      <td>0.0</td>\n",
       "      <td>0.0</td>\n",
       "      <td>POLYGON ((-73.93740 40.67973, -73.93487 40.679...</td>\n",
       "      <td>0.002107</td>\n",
       "    </tr>\n",
       "    <tr>\n",
       "      <th>2</th>\n",
       "      <td>11212</td>\n",
       "      <td>0</td>\n",
       "      <td>Brooklyn</td>\n",
       "      <td>83866.0</td>\n",
       "      <td>4.197210e+07</td>\n",
       "      <td>NY</td>\n",
       "      <td>Kings</td>\n",
       "      <td>36</td>\n",
       "      <td>047</td>\n",
       "      <td>http://www.usps.com/</td>\n",
       "      <td>0.0</td>\n",
       "      <td>0.0</td>\n",
       "      <td>POLYGON ((-73.90294 40.67084, -73.90223 40.668...</td>\n",
       "      <td>0.001998</td>\n",
       "    </tr>\n",
       "    <tr>\n",
       "      <th>3</th>\n",
       "      <td>11225</td>\n",
       "      <td>0</td>\n",
       "      <td>Brooklyn</td>\n",
       "      <td>56527.0</td>\n",
       "      <td>2.369863e+07</td>\n",
       "      <td>NY</td>\n",
       "      <td>Kings</td>\n",
       "      <td>36</td>\n",
       "      <td>047</td>\n",
       "      <td>http://www.usps.com/</td>\n",
       "      <td>0.0</td>\n",
       "      <td>0.0</td>\n",
       "      <td>POLYGON ((-73.95797 40.67066, -73.95576 40.670...</td>\n",
       "      <td>0.002385</td>\n",
       "    </tr>\n",
       "    <tr>\n",
       "      <th>4</th>\n",
       "      <td>11218</td>\n",
       "      <td>0</td>\n",
       "      <td>Brooklyn</td>\n",
       "      <td>72280.0</td>\n",
       "      <td>3.686880e+07</td>\n",
       "      <td>NY</td>\n",
       "      <td>Kings</td>\n",
       "      <td>36</td>\n",
       "      <td>047</td>\n",
       "      <td>http://www.usps.com/</td>\n",
       "      <td>0.0</td>\n",
       "      <td>0.0</td>\n",
       "      <td>POLYGON ((-73.97208 40.65060, -73.97192 40.650...</td>\n",
       "      <td>0.001960</td>\n",
       "    </tr>\n",
       "    <tr>\n",
       "      <th>...</th>\n",
       "      <td>...</td>\n",
       "      <td>...</td>\n",
       "      <td>...</td>\n",
       "      <td>...</td>\n",
       "      <td>...</td>\n",
       "      <td>...</td>\n",
       "      <td>...</td>\n",
       "      <td>...</td>\n",
       "      <td>...</td>\n",
       "      <td>...</td>\n",
       "      <td>...</td>\n",
       "      <td>...</td>\n",
       "      <td>...</td>\n",
       "      <td>...</td>\n",
       "    </tr>\n",
       "    <tr>\n",
       "      <th>258</th>\n",
       "      <td>10310</td>\n",
       "      <td>0</td>\n",
       "      <td>Staten Island</td>\n",
       "      <td>25003.0</td>\n",
       "      <td>5.346328e+07</td>\n",
       "      <td>NY</td>\n",
       "      <td>Richmond</td>\n",
       "      <td>36</td>\n",
       "      <td>085</td>\n",
       "      <td>http://www.usps.com/</td>\n",
       "      <td>0.0</td>\n",
       "      <td>0.0</td>\n",
       "      <td>POLYGON ((-74.12065 40.64104, -74.12057 40.641...</td>\n",
       "      <td>0.000468</td>\n",
       "    </tr>\n",
       "    <tr>\n",
       "      <th>259</th>\n",
       "      <td>11693</td>\n",
       "      <td>0</td>\n",
       "      <td>Far Rockaway</td>\n",
       "      <td>11052.0</td>\n",
       "      <td>3.497516e+06</td>\n",
       "      <td>NY</td>\n",
       "      <td>Kings</td>\n",
       "      <td>36</td>\n",
       "      <td>047</td>\n",
       "      <td>http://www.usps.com/</td>\n",
       "      <td>0.0</td>\n",
       "      <td>0.0</td>\n",
       "      <td>POLYGON ((-73.84076 40.62536, -73.84306 40.627...</td>\n",
       "      <td>0.003160</td>\n",
       "    </tr>\n",
       "    <tr>\n",
       "      <th>260</th>\n",
       "      <td>11249</td>\n",
       "      <td>0</td>\n",
       "      <td>Brooklyn</td>\n",
       "      <td>28481.0</td>\n",
       "      <td>1.777221e+07</td>\n",
       "      <td>NY</td>\n",
       "      <td>Kings</td>\n",
       "      <td>36</td>\n",
       "      <td>047</td>\n",
       "      <td>http://www.usps.com/</td>\n",
       "      <td>0.0</td>\n",
       "      <td>0.0</td>\n",
       "      <td>POLYGON ((-73.95805 40.72442, -73.95772 40.724...</td>\n",
       "      <td>0.001603</td>\n",
       "    </tr>\n",
       "    <tr>\n",
       "      <th>261</th>\n",
       "      <td>10162</td>\n",
       "      <td>1</td>\n",
       "      <td>New York</td>\n",
       "      <td>0.0</td>\n",
       "      <td>2.103489e+04</td>\n",
       "      <td>NY</td>\n",
       "      <td>New York</td>\n",
       "      <td>36</td>\n",
       "      <td>061</td>\n",
       "      <td>http://www.usps.com/</td>\n",
       "      <td>0.0</td>\n",
       "      <td>0.0</td>\n",
       "      <td>POLYGON ((-73.95133 40.76931, -73.95165 40.769...</td>\n",
       "      <td>0.000000</td>\n",
       "    </tr>\n",
       "    <tr>\n",
       "      <th>262</th>\n",
       "      <td>10119</td>\n",
       "      <td>1</td>\n",
       "      <td>New York</td>\n",
       "      <td>0.0</td>\n",
       "      <td>1.263930e+05</td>\n",
       "      <td>NY</td>\n",
       "      <td>New York</td>\n",
       "      <td>36</td>\n",
       "      <td>061</td>\n",
       "      <td>http://www.usps.com/</td>\n",
       "      <td>0.0</td>\n",
       "      <td>0.0</td>\n",
       "      <td>POLYGON ((-73.99354 40.75145, -73.99320 40.751...</td>\n",
       "      <td>0.000000</td>\n",
       "    </tr>\n",
       "  </tbody>\n",
       "</table>\n",
       "<p>263 rows × 14 columns</p>\n",
       "</div>"
      ],
      "text/plain": [
       "    ZIPCODE BLDGZIP        PO_NAME  POPULATION          AREA STATE    COUNTY  \\\n",
       "0     11436       0        Jamaica     18681.0  2.269930e+07    NY    Queens   \n",
       "1     11213       0       Brooklyn     62426.0  2.963100e+07    NY     Kings   \n",
       "2     11212       0       Brooklyn     83866.0  4.197210e+07    NY     Kings   \n",
       "3     11225       0       Brooklyn     56527.0  2.369863e+07    NY     Kings   \n",
       "4     11218       0       Brooklyn     72280.0  3.686880e+07    NY     Kings   \n",
       "..      ...     ...            ...         ...           ...   ...       ...   \n",
       "258   10310       0  Staten Island     25003.0  5.346328e+07    NY  Richmond   \n",
       "259   11693       0   Far Rockaway     11052.0  3.497516e+06    NY     Kings   \n",
       "260   11249       0       Brooklyn     28481.0  1.777221e+07    NY     Kings   \n",
       "261   10162       1       New York         0.0  2.103489e+04    NY  New York   \n",
       "262   10119       1       New York         0.0  1.263930e+05    NY  New York   \n",
       "\n",
       "    ST_FIPS CTY_FIPS                   URL  SHAPE_AREA  SHAPE_LEN  \\\n",
       "0        36      081  http://www.usps.com/         0.0        0.0   \n",
       "1        36      047  http://www.usps.com/         0.0        0.0   \n",
       "2        36      047  http://www.usps.com/         0.0        0.0   \n",
       "3        36      047  http://www.usps.com/         0.0        0.0   \n",
       "4        36      047  http://www.usps.com/         0.0        0.0   \n",
       "..      ...      ...                   ...         ...        ...   \n",
       "258      36      085  http://www.usps.com/         0.0        0.0   \n",
       "259      36      047  http://www.usps.com/         0.0        0.0   \n",
       "260      36      047  http://www.usps.com/         0.0        0.0   \n",
       "261      36      061  http://www.usps.com/         0.0        0.0   \n",
       "262      36      061  http://www.usps.com/         0.0        0.0   \n",
       "\n",
       "                                              geometry   density  \n",
       "0    POLYGON ((-73.80585 40.68291, -73.80569 40.682...  0.000823  \n",
       "1    POLYGON ((-73.93740 40.67973, -73.93487 40.679...  0.002107  \n",
       "2    POLYGON ((-73.90294 40.67084, -73.90223 40.668...  0.001998  \n",
       "3    POLYGON ((-73.95797 40.67066, -73.95576 40.670...  0.002385  \n",
       "4    POLYGON ((-73.97208 40.65060, -73.97192 40.650...  0.001960  \n",
       "..                                                 ...       ...  \n",
       "258  POLYGON ((-74.12065 40.64104, -74.12057 40.641...  0.000468  \n",
       "259  POLYGON ((-73.84076 40.62536, -73.84306 40.627...  0.003160  \n",
       "260  POLYGON ((-73.95805 40.72442, -73.95772 40.724...  0.001603  \n",
       "261  POLYGON ((-73.95133 40.76931, -73.95165 40.769...  0.000000  \n",
       "262  POLYGON ((-73.99354 40.75145, -73.99320 40.751...  0.000000  \n",
       "\n",
       "[263 rows x 14 columns]"
      ]
     },
     "execution_count": 428,
     "metadata": {},
     "output_type": "execute_result"
    }
   ],
   "source": [
    "zip_codes"
   ]
  },
  {
   "cell_type": "code",
   "execution_count": 430,
   "id": "5ca19fab",
   "metadata": {},
   "outputs": [
    {
     "ename": "ValueError",
     "evalue": "'left_df' should be GeoDataFrame, got <class 'pandas.core.frame.DataFrame'>",
     "output_type": "error",
     "traceback": [
      "\u001b[0;31m---------------------------------------------------------------------------\u001b[0m",
      "\u001b[0;31mValueError\u001b[0m                                Traceback (most recent call last)",
      "\u001b[0;32m/var/folders/b8/239_pqws18g3pvdbw2lfwk600000gn/T/ipykernel_67666/2710714107.py\u001b[0m in \u001b[0;36m<module>\u001b[0;34m\u001b[0m\n\u001b[1;32m      1\u001b[0m \u001b[0;32mfrom\u001b[0m \u001b[0mgeopandas\u001b[0m\u001b[0;34m.\u001b[0m\u001b[0mtools\u001b[0m \u001b[0;32mimport\u001b[0m \u001b[0msjoin\u001b[0m\u001b[0;34m\u001b[0m\u001b[0;34m\u001b[0m\u001b[0m\n\u001b[0;32m----> 2\u001b[0;31m \u001b[0maccidents_w_zips\u001b[0m \u001b[0;34m=\u001b[0m \u001b[0msjoin\u001b[0m\u001b[0;34m(\u001b[0m\u001b[0mbike_data_borough\u001b[0m\u001b[0;34m,\u001b[0m \u001b[0mzip_codes\u001b[0m\u001b[0;34m,\u001b[0m \u001b[0mhow\u001b[0m \u001b[0;34m=\u001b[0m \u001b[0;34m'left'\u001b[0m\u001b[0;34m)\u001b[0m\u001b[0;34m\u001b[0m\u001b[0;34m\u001b[0m\u001b[0m\n\u001b[0m",
      "\u001b[0;32m~/opt/anaconda3/envs/newenv/lib/python3.8/site-packages/geopandas/tools/sjoin.py\u001b[0m in \u001b[0;36msjoin\u001b[0;34m(left_df, right_df, how, op, lsuffix, rsuffix)\u001b[0m\n\u001b[1;32m     85\u001b[0m     \u001b[0mdimension\u001b[0m \u001b[0;32mis\u001b[0m \u001b[0;32mnot\u001b[0m \u001b[0mtaken\u001b[0m \u001b[0minto\u001b[0m \u001b[0maccount\u001b[0m\u001b[0;34m.\u001b[0m\u001b[0;34m\u001b[0m\u001b[0;34m\u001b[0m\u001b[0m\n\u001b[1;32m     86\u001b[0m     \"\"\"\n\u001b[0;32m---> 87\u001b[0;31m     \u001b[0m_basic_checks\u001b[0m\u001b[0;34m(\u001b[0m\u001b[0mleft_df\u001b[0m\u001b[0;34m,\u001b[0m \u001b[0mright_df\u001b[0m\u001b[0;34m,\u001b[0m \u001b[0mhow\u001b[0m\u001b[0;34m,\u001b[0m \u001b[0mlsuffix\u001b[0m\u001b[0;34m,\u001b[0m \u001b[0mrsuffix\u001b[0m\u001b[0;34m)\u001b[0m\u001b[0;34m\u001b[0m\u001b[0;34m\u001b[0m\u001b[0m\n\u001b[0m\u001b[1;32m     88\u001b[0m \u001b[0;34m\u001b[0m\u001b[0m\n\u001b[1;32m     89\u001b[0m     \u001b[0mindices\u001b[0m \u001b[0;34m=\u001b[0m \u001b[0m_geom_predicate_query\u001b[0m\u001b[0;34m(\u001b[0m\u001b[0mleft_df\u001b[0m\u001b[0;34m,\u001b[0m \u001b[0mright_df\u001b[0m\u001b[0;34m,\u001b[0m \u001b[0mop\u001b[0m\u001b[0;34m)\u001b[0m\u001b[0;34m\u001b[0m\u001b[0;34m\u001b[0m\u001b[0m\n",
      "\u001b[0;32m~/opt/anaconda3/envs/newenv/lib/python3.8/site-packages/geopandas/tools/sjoin.py\u001b[0m in \u001b[0;36m_basic_checks\u001b[0;34m(left_df, right_df, how, lsuffix, rsuffix)\u001b[0m\n\u001b[1;32m    113\u001b[0m     \"\"\"\n\u001b[1;32m    114\u001b[0m     \u001b[0;32mif\u001b[0m \u001b[0;32mnot\u001b[0m \u001b[0misinstance\u001b[0m\u001b[0;34m(\u001b[0m\u001b[0mleft_df\u001b[0m\u001b[0;34m,\u001b[0m \u001b[0mGeoDataFrame\u001b[0m\u001b[0;34m)\u001b[0m\u001b[0;34m:\u001b[0m\u001b[0;34m\u001b[0m\u001b[0;34m\u001b[0m\u001b[0m\n\u001b[0;32m--> 115\u001b[0;31m         raise ValueError(\n\u001b[0m\u001b[1;32m    116\u001b[0m             \u001b[0;34m\"'left_df' should be GeoDataFrame, got {}\"\u001b[0m\u001b[0;34m.\u001b[0m\u001b[0mformat\u001b[0m\u001b[0;34m(\u001b[0m\u001b[0mtype\u001b[0m\u001b[0;34m(\u001b[0m\u001b[0mleft_df\u001b[0m\u001b[0;34m)\u001b[0m\u001b[0;34m)\u001b[0m\u001b[0;34m\u001b[0m\u001b[0;34m\u001b[0m\u001b[0m\n\u001b[1;32m    117\u001b[0m         )\n",
      "\u001b[0;31mValueError\u001b[0m: 'left_df' should be GeoDataFrame, got <class 'pandas.core.frame.DataFrame'>"
     ]
    }
   ],
   "source": [
    "from geopandas.tools import sjoin\n",
    "accidents_w_zips = sjoin(bike_data_borough, zip_codes, how = 'left')"
   ]
  },
  {
   "cell_type": "code",
   "execution_count": 14,
   "id": "8425a760",
   "metadata": {},
   "outputs": [
    {
     "ename": "KeyError",
     "evalue": "\"['Date'] not in index\"",
     "output_type": "error",
     "traceback": [
      "\u001b[0;31m---------------------------------------------------------------------------\u001b[0m",
      "\u001b[0;31mKeyError\u001b[0m                                  Traceback (most recent call last)",
      "\u001b[0;32m/var/folders/b8/239_pqws18g3pvdbw2lfwk600000gn/T/ipykernel_5580/3833447030.py\u001b[0m in \u001b[0;36m<module>\u001b[0;34m\u001b[0m\n\u001b[1;32m      1\u001b[0m \u001b[0mall_data\u001b[0m \u001b[0;34m=\u001b[0m \u001b[0mbike_data\u001b[0m\u001b[0;34m.\u001b[0m\u001b[0mcopy\u001b[0m\u001b[0;34m(\u001b[0m\u001b[0;34m)\u001b[0m\u001b[0;34m\u001b[0m\u001b[0;34m\u001b[0m\u001b[0m\n\u001b[1;32m      2\u001b[0m \u001b[0mall_data\u001b[0m\u001b[0;34m[\u001b[0m\u001b[0;34m\"Accident Count\"\u001b[0m\u001b[0;34m]\u001b[0m \u001b[0;34m=\u001b[0m \u001b[0;36m1\u001b[0m\u001b[0;34m\u001b[0m\u001b[0;34m\u001b[0m\u001b[0m\n\u001b[0;32m----> 3\u001b[0;31m \u001b[0mall_data\u001b[0m \u001b[0;34m=\u001b[0m \u001b[0mall_data\u001b[0m\u001b[0;34m[\u001b[0m\u001b[0;34m[\u001b[0m\u001b[0;34m'CRASH DATE'\u001b[0m\u001b[0;34m,\u001b[0m \u001b[0;34m'NUMBER OF CYCLIST INJURED'\u001b[0m\u001b[0;34m,\u001b[0m\u001b[0;34m'NUMBER OF CYCLIST KILLED'\u001b[0m\u001b[0;34m,\u001b[0m\u001b[0;34m'Date'\u001b[0m\u001b[0;34m]\u001b[0m\u001b[0;34m]\u001b[0m\u001b[0;34m\u001b[0m\u001b[0;34m\u001b[0m\u001b[0m\n\u001b[0m\u001b[1;32m      4\u001b[0m \u001b[0mall_data\u001b[0m\u001b[0;34m[\u001b[0m\u001b[0;34m'Count'\u001b[0m\u001b[0;34m]\u001b[0m \u001b[0;34m=\u001b[0m \u001b[0;36m1\u001b[0m\u001b[0;34m\u001b[0m\u001b[0;34m\u001b[0m\u001b[0m\n\u001b[1;32m      5\u001b[0m \u001b[0mall_data\u001b[0m\u001b[0;34m[\u001b[0m\u001b[0;34m'Date'\u001b[0m\u001b[0;34m]\u001b[0m \u001b[0;34m=\u001b[0m \u001b[0mpd\u001b[0m\u001b[0;34m.\u001b[0m\u001b[0mto_datetime\u001b[0m\u001b[0;34m(\u001b[0m\u001b[0mbike_data_yearly\u001b[0m\u001b[0;34m[\u001b[0m\u001b[0;34m[\u001b[0m\u001b[0;34m'YEAR'\u001b[0m\u001b[0;34m,\u001b[0m \u001b[0;34m'MONTH'\u001b[0m\u001b[0;34m]\u001b[0m\u001b[0;34m]\u001b[0m\u001b[0;34m.\u001b[0m\u001b[0massign\u001b[0m\u001b[0;34m(\u001b[0m\u001b[0mDay\u001b[0m\u001b[0;34m=\u001b[0m\u001b[0;36m1\u001b[0m\u001b[0;34m)\u001b[0m\u001b[0;34m)\u001b[0m\u001b[0;34m\u001b[0m\u001b[0;34m\u001b[0m\u001b[0m\n",
      "\u001b[0;32m~/opt/anaconda3/envs/newenv/lib/python3.8/site-packages/pandas/core/frame.py\u001b[0m in \u001b[0;36m__getitem__\u001b[0;34m(self, key)\u001b[0m\n\u001b[1;32m   3459\u001b[0m             \u001b[0;32mif\u001b[0m \u001b[0mis_iterator\u001b[0m\u001b[0;34m(\u001b[0m\u001b[0mkey\u001b[0m\u001b[0;34m)\u001b[0m\u001b[0;34m:\u001b[0m\u001b[0;34m\u001b[0m\u001b[0;34m\u001b[0m\u001b[0m\n\u001b[1;32m   3460\u001b[0m                 \u001b[0mkey\u001b[0m \u001b[0;34m=\u001b[0m \u001b[0mlist\u001b[0m\u001b[0;34m(\u001b[0m\u001b[0mkey\u001b[0m\u001b[0;34m)\u001b[0m\u001b[0;34m\u001b[0m\u001b[0;34m\u001b[0m\u001b[0m\n\u001b[0;32m-> 3461\u001b[0;31m             \u001b[0mindexer\u001b[0m \u001b[0;34m=\u001b[0m \u001b[0mself\u001b[0m\u001b[0;34m.\u001b[0m\u001b[0mloc\u001b[0m\u001b[0;34m.\u001b[0m\u001b[0m_get_listlike_indexer\u001b[0m\u001b[0;34m(\u001b[0m\u001b[0mkey\u001b[0m\u001b[0;34m,\u001b[0m \u001b[0maxis\u001b[0m\u001b[0;34m=\u001b[0m\u001b[0;36m1\u001b[0m\u001b[0;34m)\u001b[0m\u001b[0;34m[\u001b[0m\u001b[0;36m1\u001b[0m\u001b[0;34m]\u001b[0m\u001b[0;34m\u001b[0m\u001b[0;34m\u001b[0m\u001b[0m\n\u001b[0m\u001b[1;32m   3462\u001b[0m \u001b[0;34m\u001b[0m\u001b[0m\n\u001b[1;32m   3463\u001b[0m         \u001b[0;31m# take() does not accept boolean indexers\u001b[0m\u001b[0;34m\u001b[0m\u001b[0;34m\u001b[0m\u001b[0;34m\u001b[0m\u001b[0m\n",
      "\u001b[0;32m~/opt/anaconda3/envs/newenv/lib/python3.8/site-packages/pandas/core/indexing.py\u001b[0m in \u001b[0;36m_get_listlike_indexer\u001b[0;34m(self, key, axis)\u001b[0m\n\u001b[1;32m   1312\u001b[0m             \u001b[0mkeyarr\u001b[0m\u001b[0;34m,\u001b[0m \u001b[0mindexer\u001b[0m\u001b[0;34m,\u001b[0m \u001b[0mnew_indexer\u001b[0m \u001b[0;34m=\u001b[0m \u001b[0max\u001b[0m\u001b[0;34m.\u001b[0m\u001b[0m_reindex_non_unique\u001b[0m\u001b[0;34m(\u001b[0m\u001b[0mkeyarr\u001b[0m\u001b[0;34m)\u001b[0m\u001b[0;34m\u001b[0m\u001b[0;34m\u001b[0m\u001b[0m\n\u001b[1;32m   1313\u001b[0m \u001b[0;34m\u001b[0m\u001b[0m\n\u001b[0;32m-> 1314\u001b[0;31m         \u001b[0mself\u001b[0m\u001b[0;34m.\u001b[0m\u001b[0m_validate_read_indexer\u001b[0m\u001b[0;34m(\u001b[0m\u001b[0mkeyarr\u001b[0m\u001b[0;34m,\u001b[0m \u001b[0mindexer\u001b[0m\u001b[0;34m,\u001b[0m \u001b[0maxis\u001b[0m\u001b[0;34m)\u001b[0m\u001b[0;34m\u001b[0m\u001b[0;34m\u001b[0m\u001b[0m\n\u001b[0m\u001b[1;32m   1315\u001b[0m \u001b[0;34m\u001b[0m\u001b[0m\n\u001b[1;32m   1316\u001b[0m         if needs_i8_conversion(ax.dtype) or isinstance(\n",
      "\u001b[0;32m~/opt/anaconda3/envs/newenv/lib/python3.8/site-packages/pandas/core/indexing.py\u001b[0m in \u001b[0;36m_validate_read_indexer\u001b[0;34m(self, key, indexer, axis)\u001b[0m\n\u001b[1;32m   1375\u001b[0m \u001b[0;34m\u001b[0m\u001b[0m\n\u001b[1;32m   1376\u001b[0m             \u001b[0mnot_found\u001b[0m \u001b[0;34m=\u001b[0m \u001b[0mlist\u001b[0m\u001b[0;34m(\u001b[0m\u001b[0mensure_index\u001b[0m\u001b[0;34m(\u001b[0m\u001b[0mkey\u001b[0m\u001b[0;34m)\u001b[0m\u001b[0;34m[\u001b[0m\u001b[0mmissing_mask\u001b[0m\u001b[0;34m.\u001b[0m\u001b[0mnonzero\u001b[0m\u001b[0;34m(\u001b[0m\u001b[0;34m)\u001b[0m\u001b[0;34m[\u001b[0m\u001b[0;36m0\u001b[0m\u001b[0;34m]\u001b[0m\u001b[0;34m]\u001b[0m\u001b[0;34m.\u001b[0m\u001b[0munique\u001b[0m\u001b[0;34m(\u001b[0m\u001b[0;34m)\u001b[0m\u001b[0;34m)\u001b[0m\u001b[0;34m\u001b[0m\u001b[0;34m\u001b[0m\u001b[0m\n\u001b[0;32m-> 1377\u001b[0;31m             \u001b[0;32mraise\u001b[0m \u001b[0mKeyError\u001b[0m\u001b[0;34m(\u001b[0m\u001b[0;34mf\"{not_found} not in index\"\u001b[0m\u001b[0;34m)\u001b[0m\u001b[0;34m\u001b[0m\u001b[0;34m\u001b[0m\u001b[0m\n\u001b[0m\u001b[1;32m   1378\u001b[0m \u001b[0;34m\u001b[0m\u001b[0m\n\u001b[1;32m   1379\u001b[0m \u001b[0;34m\u001b[0m\u001b[0m\n",
      "\u001b[0;31mKeyError\u001b[0m: \"['Date'] not in index\""
     ]
    }
   ],
   "source": [
    "all_data = bike_data.copy()\n",
    "all_data[\"Accident Count\"] = 1\n",
    "all_data = all_data[['CRASH DATE', 'NUMBER OF CYCLIST INJURED','NUMBER OF CYCLIST KILLED','Date']]\n",
    "all_data['Count'] = 1\n",
    "all_data['Date'] = pd.to_datetime(bike_data_yearly[['YEAR', 'MONTH']].assign(Day=1))\n",
    "\n",
    "# data_yr = data_yr.dropna(subset=['BOROUGH'])\n",
    "# data_yr['Count'] = 1\n",
    "# data_yr['Date'] = pd.to_datetime(data_yr[['YEAR', 'MONTH']].assign(Day=1))\n",
    "# df_yearly = bike_data_yearly.groupby([\"YEAR\"]).agg({\"Accident Count\":\"sum\"})\n",
    "# df_yearly['Date'] = pbd.to_datetime(bike_data_yearly[['YEAR', 'MONTH']].assign(Day=1))\n",
    "# df_yearly = df_yearly[df_yearly.index.isin([2016, 2017, 2018, 2019, 2020])]\n",
    "# df_yearly[\"Accident Count per Month\"] = df_yearly[\"Accident Count\"]/12\n",
    "# df_yearly[\"Accident Count per Month\"] = df_yearly[\"Accident Count per Month\"].round(2)\n",
    "\n",
    "# fig, ax = plt.subplots(figsize=(8,8))\n",
    "# sns.lineplot(data=df_yearly, ax=ax, x=\"YEAR\", y=\"Accident Count per Month\", color='green')\n",
    "# # g = sns.lineplot(data=df_yearly.loc[2016:2020], x=\"Date\", y=\"Accident Count\")"
   ]
  },
  {
   "cell_type": "code",
   "execution_count": 289,
   "id": "512500c7",
   "metadata": {
    "scrolled": true
   },
   "outputs": [
    {
     "name": "stderr",
     "output_type": "stream",
     "text": [
      "/Users/julie/opt/anaconda3/envs/newenv/lib/python3.8/site-packages/pandas/core/frame.py:3607: SettingWithCopyWarning: \n",
      "A value is trying to be set on a copy of a slice from a DataFrame.\n",
      "Try using .loc[row_indexer,col_indexer] = value instead\n",
      "\n",
      "See the caveats in the documentation: https://pandas.pydata.org/pandas-docs/stable/user_guide/indexing.html#returning-a-view-versus-a-copy\n",
      "  self._set_item(key, value)\n"
     ]
    },
    {
     "data": {
      "image/png": "[encoded data removed]",
      "text/plain": [
       "<Figure size 432x288 with 1 Axes>"
      ]
     },
     "metadata": {},
     "output_type": "display_data"
    }
   ],
   "source": [
    "## Create new column called Accident Count and set all values 1\n",
    "bike_data[\"Accident Count\"] = 1\n",
    "# Create Date column that combines YEAR and MONTH\n",
    "bike_data['Date'] = pd.to_datetime(bike_data[['YEAR', 'MONTH']].assign(Day=1))\n",
    "\n",
    "## Aggregate by month and year and count accidents\n",
    "df_  = bike_data.groupby(['YEAR','MONTH']).agg({\"Accident Count\":\"sum\"}).reset_index()\n",
    "df_['Date'] = pd.to_datetime(df_[['YEAR', 'MONTH']].assign(Day=1))\n",
    "\n",
    "# Create lineplot\n",
    "g = sns.lineplot(data=df_, x=\"Date\", y=\"Accident Count\")"
   ]
  },
  {
   "cell_type": "markdown",
   "id": "7f19d5fd",
   "metadata": {},
   "source": [
    "### Yearly average"
   ]
  },
  {
   "cell_type": "code",
   "execution_count": 351,
   "id": "1fd38a90",
   "metadata": {},
   "outputs": [
    {
     "data": {
      "text/html": [
       "<div>\n",
       "<style scoped>\n",
       "    .dataframe tbody tr th:only-of-type {\n",
       "        vertical-align: middle;\n",
       "    }\n",
       "\n",
       "    .dataframe tbody tr th {\n",
       "        vertical-align: top;\n",
       "    }\n",
       "\n",
       "    .dataframe thead th {\n",
       "        text-align: right;\n",
       "    }\n",
       "</style>\n",
       "<table border=\"1\" class=\"dataframe\">\n",
       "  <thead>\n",
       "    <tr style=\"text-align: right;\">\n",
       "      <th></th>\n",
       "      <th>Accident Count</th>\n",
       "      <th>Date</th>\n",
       "    </tr>\n",
       "    <tr>\n",
       "      <th>YEAR</th>\n",
       "      <th></th>\n",
       "      <th></th>\n",
       "    </tr>\n",
       "  </thead>\n",
       "  <tbody>\n",
       "    <tr>\n",
       "      <th>2012</th>\n",
       "      <td>2</td>\n",
       "      <td>2021-01-01</td>\n",
       "    </tr>\n",
       "    <tr>\n",
       "      <th>2013</th>\n",
       "      <td>3</td>\n",
       "      <td>2021-01-01</td>\n",
       "    </tr>\n",
       "    <tr>\n",
       "      <th>2014</th>\n",
       "      <td>4</td>\n",
       "      <td>2021-01-01</td>\n",
       "    </tr>\n",
       "    <tr>\n",
       "      <th>2015</th>\n",
       "      <td>3</td>\n",
       "      <td>2021-01-01</td>\n",
       "    </tr>\n",
       "    <tr>\n",
       "      <th>2016</th>\n",
       "      <td>5871</td>\n",
       "      <td>2021-01-01</td>\n",
       "    </tr>\n",
       "    <tr>\n",
       "      <th>2017</th>\n",
       "      <td>6342</td>\n",
       "      <td>2020-12-01</td>\n",
       "    </tr>\n",
       "    <tr>\n",
       "      <th>2018</th>\n",
       "      <td>6106</td>\n",
       "      <td>2021-01-01</td>\n",
       "    </tr>\n",
       "    <tr>\n",
       "      <th>2019</th>\n",
       "      <td>5927</td>\n",
       "      <td>2021-01-01</td>\n",
       "    </tr>\n",
       "    <tr>\n",
       "      <th>2020</th>\n",
       "      <td>5171</td>\n",
       "      <td>2020-12-01</td>\n",
       "    </tr>\n",
       "    <tr>\n",
       "      <th>2021</th>\n",
       "      <td>2322</td>\n",
       "      <td>2021-01-01</td>\n",
       "    </tr>\n",
       "  </tbody>\n",
       "</table>\n",
       "</div>"
      ],
      "text/plain": [
       "      Accident Count       Date\n",
       "YEAR                           \n",
       "2012               2 2021-01-01\n",
       "2013               3 2021-01-01\n",
       "2014               4 2021-01-01\n",
       "2015               3 2021-01-01\n",
       "2016            5871 2021-01-01\n",
       "2017            6342 2020-12-01\n",
       "2018            6106 2021-01-01\n",
       "2019            5927 2021-01-01\n",
       "2020            5171 2020-12-01\n",
       "2021            2322 2021-01-01"
      ]
     },
     "execution_count": 351,
     "metadata": {},
     "output_type": "execute_result"
    }
   ],
   "source": [
    "df_yearly"
   ]
  },
  {
   "cell_type": "code",
   "execution_count": 402,
   "id": "10f64b5c",
   "metadata": {
    "scrolled": true
   },
   "outputs": [
    {
     "data": {
      "image/png": "[encoded data removed]",
      "text/plain": [
       "<Figure size 432x288 with 1 Axes>"
      ]
     },
     "metadata": {},
     "output_type": "display_data"
    }
   ],
   "source": [
    "data_yr = bike_data.copy()\n",
    "data_yr[\"Accident Count\"] = 1\n",
    "data_yr = data_yr.dropna(subset=['BOROUGH'])\n",
    "data_yr['Count'] = 1\n",
    "data_yr['Date'] = pd.to_datetime(data_yr[['YEAR', 'MONTH']].assign(Day=1))\n",
    "df_yearly = bike_data_yearly.groupby([\"YEAR\"]).agg({\"Accident Count\":\"sum\"})\n",
    "df_yearly['Date'] = pd.to_datetime(bike_data_yearly[['YEAR', 'MONTH']].assign(Day=1))\n",
    "df_yearly = df_yearly[df_yearly.index.isin([2016, 2017, 2018, 2019, 2020])]\n",
    "df_yearly[\"Accident Count per Month\"] = df_yearly[\"Accident Count\"]/12\n",
    "df_yearly[\"Accident Count per Month\"] = df_yearly[\"Accident Count per Month\"].round(2)\n",
    "\n",
    "fig, ax = plt.subplots(figsize=(8,8))\n",
    "sns.lineplot(data=df_yearly, ax=ax, x=\"YEAR\", y=\"Accident Count per Month\", color='green')\n",
    "# g = sns.lineplot(data=df_yearly.loc[2016:2020], x=\"Date\", y=\"Accident Count\")"
   ]
  },
  {
   "cell_type": "code",
   "execution_count": 449,
   "id": "556a9a01",
   "metadata": {},
   "outputs": [
    {
     "data": {
      "text/plain": [
       "<AxesSubplot:xlabel='YEAR', ylabel='Accident Count per Month'>"
      ]
     },
     "execution_count": 449,
     "metadata": {},
     "output_type": "execute_result"
    },
    {
     "data": {
      "image/png": "[encoded data removed]",
      "text/plain": [
       "<Figure size 576x576 with 1 Axes>"
      ]
     },
     "metadata": {},
     "output_type": "display_data"
    }
   ],
   "source": [
    "fig, ax = plt.subplots(figsize=(8,8))\n",
    "sns.lineplot(data=df_yearly, ax=ax, x=\"YEAR\", y=\"Accident Count per Month\", color='green')"
   ]
  },
  {
   "cell_type": "code",
   "execution_count": 401,
   "id": "1333e69a",
   "metadata": {},
   "outputs": [
    {
     "data": {
      "image/png": "[encoded data removed]",
      "text/plain": [
       "<Figure size 432x288 with 1 Axes>"
      ]
     },
     "metadata": {},
     "output_type": "display_data"
    }
   ],
   "source": [
    "fig, ax1 = plt.subplots()\n",
    "# ax2 = ax1.twinx()\n",
    "\n",
    "g1 = sns.lineplot(data=df_plot, x=\"Date\", y=\"Accident Count\", ax=ax1)\n",
    "g2 = sns.lineplot(data=df_yearly, x=\"Date\", y=\"Accident Count per Month\", ax=ax1)\n",
    "\n",
    "\n",
    "# sns.lineplot(ax = ax, data=df_yearly.loc[2016:2020], x=\"Date\", y=\"Accident Count\")\n",
    "# df_plot = df_[(df_['Date'] > '2016-03-01') & (df_['Date'] < '2021-01-01')]\n"
   ]
  },
  {
   "cell_type": "markdown",
   "id": "0b0b0d46",
   "metadata": {},
   "source": [
    "### Combine plots\n"
   ]
  },
  {
   "cell_type": "code",
   "execution_count": 321,
   "id": "22a83869",
   "metadata": {},
   "outputs": [
    {
     "data": {
      "text/plain": [
       "<AxesSubplot:xlabel='Date', ylabel='Accident Count'>"
      ]
     },
     "execution_count": 321,
     "metadata": {},
     "output_type": "execute_result"
    },
    {
     "data": {
      "image/png": "[encoded data removed]",
      "text/plain": [
       "<Figure size 432x288 with 1 Axes>"
      ]
     },
     "metadata": {},
     "output_type": "display_data"
    }
   ],
   "source": [
    "ax = sns.lineplot(data=df_plot, x=\"Date\", y=\"Accident Count\")\n",
    "sns.lineplot(data=df_yearly.loc[2016:2020], x=\"Date\", y=\"Accident Count\")"
   ]
  },
  {
   "cell_type": "markdown",
   "id": "741c12ef",
   "metadata": {},
   "source": [
    "### Deaths"
   ]
  },
  {
   "cell_type": "code",
   "execution_count": 305,
   "id": "6120ffff",
   "metadata": {},
   "outputs": [
    {
     "data": {
      "text/plain": [
       "<pandas.core.groupby.generic.DataFrameGroupBy object at 0x7ff026ff8ee0>"
      ]
     },
     "execution_count": 305,
     "metadata": {},
     "output_type": "execute_result"
    }
   ],
   "source": []
  },
  {
   "cell_type": "markdown",
   "id": "b45c51b2",
   "metadata": {},
   "source": [
    "### By Borough - START HERE!!!!!!!"
   ]
  },
  {
   "cell_type": "code",
   "execution_count": 309,
   "id": "16c94b59",
   "metadata": {},
   "outputs": [
    {
     "ename": "AttributeError",
     "evalue": "'DataFrameGroupBy' object has no attribute 'get'",
     "output_type": "error",
     "traceback": [
      "\u001b[0;31m---------------------------------------------------------------------------\u001b[0m",
      "\u001b[0;31mAttributeError\u001b[0m                            Traceback (most recent call last)",
      "\u001b[0;32m/var/folders/b8/239_pqws18g3pvdbw2lfwk600000gn/T/ipykernel_67666/2098256423.py\u001b[0m in \u001b[0;36m<module>\u001b[0;34m\u001b[0m\n\u001b[1;32m      5\u001b[0m \u001b[0;31m# data_by_borough.sort_values(by='BOROUGH', inplace=True)\u001b[0m\u001b[0;34m\u001b[0m\u001b[0;34m\u001b[0m\u001b[0;34m\u001b[0m\u001b[0m\n\u001b[1;32m      6\u001b[0m \u001b[0mdf_borough\u001b[0m \u001b[0;34m=\u001b[0m \u001b[0mdata_by_borough\u001b[0m\u001b[0;34m.\u001b[0m\u001b[0mgroupby\u001b[0m\u001b[0;34m(\u001b[0m\u001b[0;34m\"BOROUGH\"\u001b[0m\u001b[0;34m)\u001b[0m\u001b[0;34m\u001b[0m\u001b[0;34m\u001b[0m\u001b[0m\n\u001b[0;32m----> 7\u001b[0;31m \u001b[0mb\u001b[0m \u001b[0;34m=\u001b[0m \u001b[0msns\u001b[0m\u001b[0;34m.\u001b[0m\u001b[0mcatplot\u001b[0m\u001b[0;34m(\u001b[0m\u001b[0mdata\u001b[0m\u001b[0;34m=\u001b[0m\u001b[0mdf_borough\u001b[0m\u001b[0;34m,\u001b[0m \u001b[0mkind\u001b[0m\u001b[0;34m=\u001b[0m\u001b[0;34m\"bar\"\u001b[0m\u001b[0;34m,\u001b[0m \u001b[0mx\u001b[0m\u001b[0;34m=\u001b[0m\u001b[0;34m\"BOROUGH\"\u001b[0m\u001b[0;34m,\u001b[0m \u001b[0my\u001b[0m\u001b[0;34m=\u001b[0m\u001b[0;34m\"Count\"\u001b[0m\u001b[0;34m)\u001b[0m\u001b[0;34m\u001b[0m\u001b[0;34m\u001b[0m\u001b[0m\n\u001b[0m\u001b[1;32m      8\u001b[0m \u001b[0mdf_borough\u001b[0m\u001b[0;34m\u001b[0m\u001b[0;34m\u001b[0m\u001b[0m\n",
      "\u001b[0;32m~/opt/anaconda3/envs/newenv/lib/python3.8/site-packages/seaborn/_decorators.py\u001b[0m in \u001b[0;36minner_f\u001b[0;34m(*args, **kwargs)\u001b[0m\n\u001b[1;32m     44\u001b[0m             )\n\u001b[1;32m     45\u001b[0m         \u001b[0mkwargs\u001b[0m\u001b[0;34m.\u001b[0m\u001b[0mupdate\u001b[0m\u001b[0;34m(\u001b[0m\u001b[0;34m{\u001b[0m\u001b[0mk\u001b[0m\u001b[0;34m:\u001b[0m \u001b[0marg\u001b[0m \u001b[0;32mfor\u001b[0m \u001b[0mk\u001b[0m\u001b[0;34m,\u001b[0m \u001b[0marg\u001b[0m \u001b[0;32min\u001b[0m \u001b[0mzip\u001b[0m\u001b[0;34m(\u001b[0m\u001b[0msig\u001b[0m\u001b[0;34m.\u001b[0m\u001b[0mparameters\u001b[0m\u001b[0;34m,\u001b[0m \u001b[0margs\u001b[0m\u001b[0;34m)\u001b[0m\u001b[0;34m}\u001b[0m\u001b[0;34m)\u001b[0m\u001b[0;34m\u001b[0m\u001b[0;34m\u001b[0m\u001b[0m\n\u001b[0;32m---> 46\u001b[0;31m         \u001b[0;32mreturn\u001b[0m \u001b[0mf\u001b[0m\u001b[0;34m(\u001b[0m\u001b[0;34m**\u001b[0m\u001b[0mkwargs\u001b[0m\u001b[0;34m)\u001b[0m\u001b[0;34m\u001b[0m\u001b[0;34m\u001b[0m\u001b[0m\n\u001b[0m\u001b[1;32m     47\u001b[0m     \u001b[0;32mreturn\u001b[0m \u001b[0minner_f\u001b[0m\u001b[0;34m\u001b[0m\u001b[0;34m\u001b[0m\u001b[0m\n\u001b[1;32m     48\u001b[0m \u001b[0;34m\u001b[0m\u001b[0m\n",
      "\u001b[0;32m~/opt/anaconda3/envs/newenv/lib/python3.8/site-packages/seaborn/categorical.py\u001b[0m in \u001b[0;36mcatplot\u001b[0;34m(x, y, hue, data, row, col, col_wrap, estimator, ci, n_boot, units, seed, order, hue_order, row_order, col_order, kind, height, aspect, orient, color, palette, legend, legend_out, sharex, sharey, margin_titles, facet_kws, **kwargs)\u001b[0m\n\u001b[1;32m   3787\u001b[0m     \u001b[0mp\u001b[0m \u001b[0;34m=\u001b[0m \u001b[0m_CategoricalPlotter\u001b[0m\u001b[0;34m(\u001b[0m\u001b[0;34m)\u001b[0m\u001b[0;34m\u001b[0m\u001b[0;34m\u001b[0m\u001b[0m\n\u001b[1;32m   3788\u001b[0m     \u001b[0mp\u001b[0m\u001b[0;34m.\u001b[0m\u001b[0mrequire_numeric\u001b[0m \u001b[0;34m=\u001b[0m \u001b[0mplotter_class\u001b[0m\u001b[0;34m.\u001b[0m\u001b[0mrequire_numeric\u001b[0m\u001b[0;34m\u001b[0m\u001b[0;34m\u001b[0m\u001b[0m\n\u001b[0;32m-> 3789\u001b[0;31m     \u001b[0mp\u001b[0m\u001b[0;34m.\u001b[0m\u001b[0mestablish_variables\u001b[0m\u001b[0;34m(\u001b[0m\u001b[0mx_\u001b[0m\u001b[0;34m,\u001b[0m \u001b[0my_\u001b[0m\u001b[0;34m,\u001b[0m \u001b[0mhue\u001b[0m\u001b[0;34m,\u001b[0m \u001b[0mdata\u001b[0m\u001b[0;34m,\u001b[0m \u001b[0morient\u001b[0m\u001b[0;34m,\u001b[0m \u001b[0morder\u001b[0m\u001b[0;34m,\u001b[0m \u001b[0mhue_order\u001b[0m\u001b[0;34m)\u001b[0m\u001b[0;34m\u001b[0m\u001b[0;34m\u001b[0m\u001b[0m\n\u001b[0m\u001b[1;32m   3790\u001b[0m     if (\n\u001b[1;32m   3791\u001b[0m         \u001b[0morder\u001b[0m \u001b[0;32mis\u001b[0m \u001b[0;32mnot\u001b[0m \u001b[0;32mNone\u001b[0m\u001b[0;34m\u001b[0m\u001b[0;34m\u001b[0m\u001b[0m\n",
      "\u001b[0;32m~/opt/anaconda3/envs/newenv/lib/python3.8/site-packages/seaborn/categorical.py\u001b[0m in \u001b[0;36mestablish_variables\u001b[0;34m(self, x, y, hue, data, orient, order, hue_order, units)\u001b[0m\n\u001b[1;32m    142\u001b[0m             \u001b[0;31m# See if we need to get variables from `data`\u001b[0m\u001b[0;34m\u001b[0m\u001b[0;34m\u001b[0m\u001b[0;34m\u001b[0m\u001b[0m\n\u001b[1;32m    143\u001b[0m             \u001b[0;32mif\u001b[0m \u001b[0mdata\u001b[0m \u001b[0;32mis\u001b[0m \u001b[0;32mnot\u001b[0m \u001b[0;32mNone\u001b[0m\u001b[0;34m:\u001b[0m\u001b[0;34m\u001b[0m\u001b[0;34m\u001b[0m\u001b[0m\n\u001b[0;32m--> 144\u001b[0;31m                 \u001b[0mx\u001b[0m \u001b[0;34m=\u001b[0m \u001b[0mdata\u001b[0m\u001b[0;34m.\u001b[0m\u001b[0mget\u001b[0m\u001b[0;34m(\u001b[0m\u001b[0mx\u001b[0m\u001b[0;34m,\u001b[0m \u001b[0mx\u001b[0m\u001b[0;34m)\u001b[0m\u001b[0;34m\u001b[0m\u001b[0;34m\u001b[0m\u001b[0m\n\u001b[0m\u001b[1;32m    145\u001b[0m                 \u001b[0my\u001b[0m \u001b[0;34m=\u001b[0m \u001b[0mdata\u001b[0m\u001b[0;34m.\u001b[0m\u001b[0mget\u001b[0m\u001b[0;34m(\u001b[0m\u001b[0my\u001b[0m\u001b[0;34m,\u001b[0m \u001b[0my\u001b[0m\u001b[0;34m)\u001b[0m\u001b[0;34m\u001b[0m\u001b[0;34m\u001b[0m\u001b[0m\n\u001b[1;32m    146\u001b[0m                 \u001b[0mhue\u001b[0m \u001b[0;34m=\u001b[0m \u001b[0mdata\u001b[0m\u001b[0;34m.\u001b[0m\u001b[0mget\u001b[0m\u001b[0;34m(\u001b[0m\u001b[0mhue\u001b[0m\u001b[0;34m,\u001b[0m \u001b[0mhue\u001b[0m\u001b[0;34m)\u001b[0m\u001b[0;34m\u001b[0m\u001b[0;34m\u001b[0m\u001b[0m\n",
      "\u001b[0;32m~/opt/anaconda3/envs/newenv/lib/python3.8/site-packages/pandas/core/groupby/groupby.py\u001b[0m in \u001b[0;36m__getattr__\u001b[0;34m(self, attr)\u001b[0m\n\u001b[1;32m    908\u001b[0m             \u001b[0;32mreturn\u001b[0m \u001b[0mself\u001b[0m\u001b[0;34m[\u001b[0m\u001b[0mattr\u001b[0m\u001b[0;34m]\u001b[0m\u001b[0;34m\u001b[0m\u001b[0;34m\u001b[0m\u001b[0m\n\u001b[1;32m    909\u001b[0m \u001b[0;34m\u001b[0m\u001b[0m\n\u001b[0;32m--> 910\u001b[0;31m         raise AttributeError(\n\u001b[0m\u001b[1;32m    911\u001b[0m             \u001b[0;34mf\"'{type(self).__name__}' object has no attribute '{attr}'\"\u001b[0m\u001b[0;34m\u001b[0m\u001b[0;34m\u001b[0m\u001b[0m\n\u001b[1;32m    912\u001b[0m         )\n",
      "\u001b[0;31mAttributeError\u001b[0m: 'DataFrameGroupBy' object has no attribute 'get'"
     ]
    }
   ],
   "source": [
    "#%% By borough - DO THIS, separate accidents by borough\n",
    "data_by_borough = bike_data[['BOROUGH', 'VEHICLE TYPE CODE 1', 'VEHICLE TYPE CODE 2', 'ZIP CODE', 'NUMBER OF PERSONS KILLED']]\n",
    "data_by_borough = data_by_borough.dropna(subset=['BOROUGH'])\n",
    "data_by_borough['Count'] = 1\n",
    "# data_by_borough.sort_values(by='BOROUGH', inplace=True)\n",
    "df_borough = data_by_borough.groupby([]\"BOROUGH\"])\n",
    "b = sns.catplot(data=df_borough, kind=\"bar\", x=\"BOROUGH\", y=\"Count\")\n",
    "df_borough"
   ]
  },
  {
   "cell_type": "markdown",
   "id": "c0826576",
   "metadata": {},
   "source": [
    "### E-Bike"
   ]
  },
  {
   "cell_type": "code",
   "execution_count": 252,
   "id": "9f3fe031",
   "metadata": {
    "scrolled": true
   },
   "outputs": [
    {
     "name": "stderr",
     "output_type": "stream",
     "text": [
      "/Users/julie/opt/anaconda3/envs/newenv/lib/python3.8/site-packages/pandas/core/frame.py:3607: SettingWithCopyWarning: \n",
      "A value is trying to be set on a copy of a slice from a DataFrame.\n",
      "Try using .loc[row_indexer,col_indexer] = value instead\n",
      "\n",
      "See the caveats in the documentation: https://pandas.pydata.org/pandas-docs/stable/user_guide/indexing.html#returning-a-view-versus-a-copy\n",
      "  self._set_item(key, value)\n"
     ]
    },
    {
     "data": {
      "image/png": "[encoded data removed]",
      "text/plain": [
       "<Figure size 432x288 with 1 Axes>"
      ]
     },
     "metadata": {},
     "output_type": "display_data"
    }
   ],
   "source": [
    "### E-Bike data - DO THIS, separate accidents by e-bike\n",
    "ebike_data = crash_data[(crash_data['VEHICLE TYPE CODE 1'] == 'E-Bike') | (crash_data['VEHICLE TYPE CODE 2'] == 'E-Bike')]\n",
    "\n",
    "# crash_data.shape     #Shape is (1 801 417, 29)\n",
    "ebike_data.shape     #(2131, 31)\n",
    "\n",
    "##### -------------------------------------------------------------------\n",
    "## Create new column called Accident Count and set all values 1\n",
    "ebike_data[\"Accident Count\"] = 1\n",
    "# Create Date column that combines YEAR and MONTH\n",
    "ebike_data['Date'] = pd.to_datetime(ebike_data[['YEAR', 'MONTH']].assign(Day=1))\n",
    "\n",
    "## Aggregate by month and year and count accidents\n",
    "df_ebike  = ebike_data.groupby(['YEAR','MONTH']).agg({\"Accident Count\":\"sum\"}).reset_index()\n",
    "df_ebike['Date'] = pd.to_datetime(df_ebike[['YEAR', 'MONTH']].assign(Day=1))\n",
    "\n",
    "# Create lineplot\n",
    "\n",
    "fig, ax = plt.subplots(figsize=(8,8))\n",
    "sns.lineplot(data=df_ebike, ax=ax, x=\"Date\", y=\"Accident Count\", color='red')"
   ]
  },
  {
   "cell_type": "code",
   "execution_count": 453,
   "id": "cb345c72",
   "metadata": {},
   "outputs": [
    {
     "data": {
      "text/plain": [
       "<AxesSubplot:xlabel='Date', ylabel='Accident Count'>"
      ]
     },
     "execution_count": 453,
     "metadata": {},
     "output_type": "execute_result"
    },
    {
     "data": {
      "image/png": "[encoded data removed]",
      "text/plain": [
       "<Figure size 864x576 with 1 Axes>"
      ]
     },
     "metadata": {},
     "output_type": "display_data"
    }
   ],
   "source": [
    "fig, ax = plt.subplots(figsize=(12,8))\n",
    "sns.lineplot(data=df_ebike, ax=ax, x=\"Date\", y=\"Accident Count\", color='red')"
   ]
  },
  {
   "cell_type": "markdown",
   "id": "e5ccd74d",
   "metadata": {},
   "source": [
    "### EXTRA"
   ]
  },
  {
   "cell_type": "code",
   "execution_count": null,
   "id": "c1688c06",
   "metadata": {},
   "outputs": [],
   "source": [
    "\n",
    "#%% Load Geopandas shape file\n",
    "bike_lanes_2021 = gpd.read_file('Bicycle Routes 2021/')\n",
    "\n",
    "\n",
    "#%% temp test\n",
    "# addresses = addresses.str.slice(stop=5)\n",
    "# addresses = addresses.astype('string')\n",
    "print(addresses.values.dtype)\n",
    "# tmp_series = addresses.dtype\n",
    "# print(tmp_series)\n",
    "# tmp_series2 = (addresses.dtype != 'str')\n",
    "# print(tmp_series2)\n",
    "\n",
    "\n",
    "for i in addresses:\n",
    "    # print(type(i))\n",
    "    print(i, end=\"\\n\")\n",
    "    if type(i) != str:\n",
    "        print(i)\n",
    "        print(type(i))\n",
    "        \n",
    "    # if type(i) == str: \n",
    "    #     # print('string')       \n",
    "    #     print(re.findall(r\"\\D(\\d{5})\\D\", i))\n",
    "    # else:\n",
    "    #     pass\n",
    "\n",
    "#%%"
   ]
  }
 ],
 "metadata": {
  "kernelspec": {
   "display_name": "Python 3 (ipykernel)",
   "language": "python",
   "name": "python3"
  },
  "language_info": {
   "codemirror_mode": {
    "name": "ipython",
    "version": 3
   },
   "file_extension": ".py",
   "mimetype": "text/x-python",
   "name": "python",
   "nbconvert_exporter": "python",
   "pygments_lexer": "ipython3",
   "version": "3.8.10"
  }
 },
 "nbformat": 4,
 "nbformat_minor": 5
}
